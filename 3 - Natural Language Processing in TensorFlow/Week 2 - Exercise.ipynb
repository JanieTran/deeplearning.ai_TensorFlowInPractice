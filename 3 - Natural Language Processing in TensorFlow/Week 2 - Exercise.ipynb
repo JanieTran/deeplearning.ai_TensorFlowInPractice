{
 "cells": [
  {
   "cell_type": "code",
   "execution_count": 1,
   "metadata": {},
   "outputs": [],
   "source": [
    "import csv\n",
    "import tensorflow as tf\n",
    "import numpy as np\n",
    "from tensorflow.keras.preprocessing.text import Tokenizer\n",
    "from tensorflow.keras.preprocessing.sequence import pad_sequences\n",
    "\n",
    "vocab_size = 1000\n",
    "embedding_dim = 16\n",
    "max_length = 120\n",
    "trunc_type = 'post'\n",
    "padding_type = 'post'\n",
    "oov_tok = '<OOV>'\n",
    "training_portion = .8"
   ]
  },
  {
   "cell_type": "code",
   "execution_count": 2,
   "metadata": {},
   "outputs": [
    {
     "name": "stdout",
     "output_type": "stream",
     "text": [
      "153\n"
     ]
    }
   ],
   "source": [
    "stopwords = [\"a\", \"about\", \"above\", \"after\", \"again\", \"against\", \"all\", \"am\", \"an\", \"and\", \"any\", \"are\", \"as\", \"at\", \n",
    "             \"be\", \"because\", \"been\", \"before\", \"being\", \"below\", \"between\", \"both\", \"but\", \"by\", \n",
    "             \"could\", \n",
    "             \"did\", \"do\", \"does\", \"doing\", \"down\", \"during\", \n",
    "             \"each\", \n",
    "             \"few\", \"for\", \"from\", \"further\", \n",
    "             \"had\", \"has\", \"have\", \"having\", \"he\", \"he'd\", \"he'll\", \"he's\", \"her\", \"here\", \"here's\", \"hers\",\n",
    "             \"herself\", \"him\", \"himself\", \"his\", \"how\", \"how's\",\n",
    "             \"i\", \"i'd\", \"i'll\", \"i'm\", \"i've\", \"if\", \"in\", \"into\", \"is\", \"it\", \"it's\", \"its\", \"itself\",\n",
    "             \"let's\",\n",
    "             \"me\", \"more\", \"most\", \"my\", \"myself\", \n",
    "             \"nor\", \n",
    "             \"of\", \"on\", \"once\", \"only\", \"or\", \"other\", \"ought\", \"our\", \"ours\", \"ourselves\", \"out\", \"over\", \"own\", \n",
    "             \"same\", \"she\", \"she'd\", \"she'll\", \"she's\", \"should\", \"so\", \"some\", \"such\", \n",
    "             \"than\", \"that\", \"that's\", \"the\", \"their\", \"theirs\", \"them\", \"themselves\", \"then\", \"there\", \"there's\", \n",
    "             \"these\", \"they\", \"they'd\", \"they'll\", \"they're\", \"they've\", \"this\", \"those\", \"through\", \"to\", \"too\", \n",
    "             \"under\", \"until\", \"up\", \n",
    "             \"very\", \n",
    "             \"was\", \"we\", \"we'd\", \"we'll\", \"we're\", \"we've\", \"were\", \"what\", \"what's\", \"when\", \"when's\", \"where\", \n",
    "             \"where's\", \"which\", \"while\", \"who\", \"who's\", \"whom\", \"why\", \"why's\", \"with\", \"would\", \n",
    "             \"you\", \"you'd\", \"you'll\", \"you're\", \"you've\", \"your\", \"yours\", \"yourself\", \"yourselves\"]\n",
    "print(len(stopwords))"
   ]
  },
  {
   "cell_type": "code",
   "execution_count": 3,
   "metadata": {},
   "outputs": [
    {
     "name": "stdout",
     "output_type": "stream",
     "text": [
      "Sentences: 2225 - Labels: 2225\n",
      "\n",
      "tv future hands viewers home theatre systems  plasma high-definition tvs  digital video recorders moving living room  way people watch tv will radically different five years  time.  according expert panel gathered annual consumer electronics show las vegas discuss new technologies will impact one favourite pastimes. us leading trend  programmes content will delivered viewers via home networks  cable  satellite  telecoms companies  broadband service providers front rooms portable devices.  one talked-about technologies ces digital personal video recorders (dvr pvr). set-top boxes  like us s tivo uk s sky+ system  allow people record  store  play  pause forward wind tv programmes want.  essentially  technology allows much personalised tv. also built-in high-definition tv sets  big business japan us  slower take off europe lack high-definition programming. not can people forward wind adverts  can also forget abiding network channel schedules  putting together a-la-carte entertainment. us networks cable satellite companies worried means terms advertising revenues well  brand identity  viewer loyalty channels. although us leads technology moment  also concern raised europe  particularly growing uptake services like sky+.  happens today  will see nine months years  time uk   adam hume  bbc broadcast s futurologist told bbc news website. likes bbc  no issues lost advertising revenue yet. pressing issue moment commercial uk broadcasters  brand loyalty important everyone.  will talking content brands rather network brands   said tim hanlon  brand communications firm starcom mediavest.  reality broadband connections  anybody can producer content.  added:  challenge now hard promote programme much choice.   means  said stacey jolna  senior vice president tv guide tv group  way people find content want watch simplified tv viewers. means networks  us terms  channels take leaf google s book search engine future  instead scheduler help people find want watch. kind channel model might work younger ipod generation used taking control gadgets play them. might not suit everyone  panel recognised. older generations comfortable familiar schedules channel brands know getting. perhaps not want much choice put hands  mr hanlon suggested.  end  kids just diapers pushing buttons already - everything possible available   said mr hanlon.  ultimately  consumer will tell market want.   50 000 new gadgets technologies showcased ces  many enhancing tv-watching experience. high-definition tv sets everywhere many new models lcd (liquid crystal display) tvs launched dvr capability built  instead external boxes. one example launched show humax s 26-inch lcd tv 80-hour tivo dvr dvd recorder. one us s biggest satellite tv companies  directtv  even launched branded dvr show 100-hours recording capability  instant replay  search function. set can pause rewind tv 90 hours. microsoft chief bill gates announced pre-show keynote speech partnership tivo  called tivotogo  means people can play recorded programmes windows pcs mobile devices. reflect increasing trend freeing multimedia people can watch want  want.\n",
      "tech\n"
     ]
    }
   ],
   "source": [
    "sentences = []\n",
    "labels = []\n",
    "\n",
    "with open('tmp/bbc-text.csv', 'r') as f:\n",
    "    reader = csv.reader(f, delimiter=',')\n",
    "    line = 0\n",
    "    \n",
    "    for row in reader:\n",
    "        if line == 0:\n",
    "            line += 1\n",
    "            continue\n",
    "        labels.append(row[0])\n",
    "        text = row[1]\n",
    "        for word in stopwords:\n",
    "            token = ' ' + word + ' '\n",
    "            text = text.replace(token, ' ')\n",
    "        \n",
    "        sentences.append(text)\n",
    "        line += 1\n",
    "\n",
    "print(f'Sentences: {len(sentences)} - Labels: {len(labels)}\\n')\n",
    "print(sentences[0])\n",
    "print(labels[0])"
   ]
  },
  {
   "cell_type": "code",
   "execution_count": 4,
   "metadata": {},
   "outputs": [
    {
     "name": "stdout",
     "output_type": "stream",
     "text": [
      "1780\n",
      "1780\n",
      "1780\n",
      "445\n",
      "445\n"
     ]
    }
   ],
   "source": [
    "train_size = int(len(sentences) * training_portion)\n",
    "\n",
    "train_sentences = sentences[:train_size]\n",
    "train_labels = labels[:train_size]\n",
    "\n",
    "validation_sentences = sentences[train_size:]\n",
    "validation_labels = labels[train_size:]\n",
    "\n",
    "print(train_size)\n",
    "print(len(train_sentences))\n",
    "print(len(train_labels))\n",
    "print(len(validation_sentences))\n",
    "print(len(validation_labels))"
   ]
  },
  {
   "cell_type": "code",
   "execution_count": 5,
   "metadata": {},
   "outputs": [
    {
     "name": "stdout",
     "output_type": "stream",
     "text": [
      "449\n",
      "120\n",
      "200\n",
      "120\n",
      "192\n",
      "120\n"
     ]
    }
   ],
   "source": [
    "tokenizer = Tokenizer(num_words=vocab_size, oov_token=oov_tok)\n",
    "tokenizer.fit_on_texts(train_sentences)\n",
    "word_index = tokenizer.word_index\n",
    "\n",
    "train_sequences = tokenizer.texts_to_sequences(train_sentences)\n",
    "train_padded = pad_sequences(train_sequences, maxlen=max_length, padding=padding_type)\n",
    "\n",
    "print(len(train_sequences[0]))\n",
    "print(len(train_padded[0]))\n",
    "\n",
    "print(len(train_sequences[1]))\n",
    "print(len(train_padded[1]))\n",
    "\n",
    "print(len(train_sequences[10]))\n",
    "print(len(train_padded[10]))"
   ]
  },
  {
   "cell_type": "code",
   "execution_count": 6,
   "metadata": {},
   "outputs": [
    {
     "name": "stdout",
     "output_type": "stream",
     "text": [
      "445\n",
      "(445, 120)\n"
     ]
    }
   ],
   "source": [
    "validation_sequences = tokenizer.texts_to_sequences(validation_sentences)\n",
    "validation_padded = pad_sequences(validation_sequences, maxlen=max_length, padding=padding_type)\n",
    "\n",
    "print(len(validation_sequences))\n",
    "print(validation_padded.shape)"
   ]
  },
  {
   "cell_type": "code",
   "execution_count": 10,
   "metadata": {},
   "outputs": [
    {
     "name": "stdout",
     "output_type": "stream",
     "text": [
      "[4]\n",
      "[2]\n",
      "[1]\n",
      "(1780, 1)\n",
      "[5]\n",
      "[4]\n",
      "[3]\n",
      "(445, 1)\n"
     ]
    }
   ],
   "source": [
    "label_tokenizer = Tokenizer()\n",
    "label_tokenizer.fit_on_texts(labels)\n",
    "\n",
    "training_label_seq = label_tokenizer.texts_to_sequences(train_labels)\n",
    "validation_label_seq = label_tokenizer.texts_to_sequences(validation_labels)\n",
    "\n",
    "training_label_seq = np.array(training_label_seq)\n",
    "validation_label_seq = np.array(validation_label_seq)\n",
    "\n",
    "print(training_label_seq[0])\n",
    "print(training_label_seq[1])\n",
    "print(training_label_seq[2])\n",
    "print(training_label_seq.shape)\n",
    "\n",
    "print(validation_label_seq[0])\n",
    "print(validation_label_seq[1])\n",
    "print(validation_label_seq[2])\n",
    "print(validation_label_seq.shape)"
   ]
  },
  {
   "cell_type": "code",
   "execution_count": 11,
   "metadata": {},
   "outputs": [
    {
     "name": "stdout",
     "output_type": "stream",
     "text": [
      "Model: \"sequential_1\"\n",
      "_________________________________________________________________\n",
      "Layer (type)                 Output Shape              Param #   \n",
      "=================================================================\n",
      "embedding_1 (Embedding)      (None, 120, 16)           16000     \n",
      "_________________________________________________________________\n",
      "global_average_pooling1d_1 ( (None, 16)                0         \n",
      "_________________________________________________________________\n",
      "dense_2 (Dense)              (None, 24)                408       \n",
      "_________________________________________________________________\n",
      "dense_3 (Dense)              (None, 6)                 150       \n",
      "=================================================================\n",
      "Total params: 16,558\n",
      "Trainable params: 16,558\n",
      "Non-trainable params: 0\n",
      "_________________________________________________________________\n"
     ]
    }
   ],
   "source": [
    "from tensorflow.keras.models import Sequential\n",
    "from tensorflow.keras.layers import Embedding, GlobalAveragePooling1D, Dense\n",
    "\n",
    "model = Sequential([\n",
    "    Embedding(input_dim=vocab_size, output_dim=embedding_dim, input_length=max_length),\n",
    "    GlobalAveragePooling1D(),\n",
    "    Dense(units=24, activation='relu'),\n",
    "    Dense(units=6, activation='softmax')\n",
    "])\n",
    "\n",
    "model.compile(optimizer='adam', loss='sparse_categorical_crossentropy', metrics=['accuracy'])\n",
    "model.summary()"
   ]
  },
  {
   "cell_type": "code",
   "execution_count": 12,
   "metadata": {},
   "outputs": [
    {
     "name": "stdout",
     "output_type": "stream",
     "text": [
      "Train on 1780 samples, validate on 445 samples\n",
      "Epoch 1/30\n",
      "1780/1780 [==============================] - 1s 546us/sample - loss: 1.7647 - accuracy: 0.2579 - val_loss: 1.7313 - val_accuracy: 0.4607\n",
      "Epoch 2/30\n",
      "1780/1780 [==============================] - 0s 201us/sample - loss: 1.6808 - accuracy: 0.4461 - val_loss: 1.6325 - val_accuracy: 0.4562\n",
      "Epoch 3/30\n",
      "1780/1780 [==============================] - 0s 195us/sample - loss: 1.5620 - accuracy: 0.5135 - val_loss: 1.5091 - val_accuracy: 0.4944\n",
      "Epoch 4/30\n",
      "1780/1780 [==============================] - 0s 193us/sample - loss: 1.4067 - accuracy: 0.6067 - val_loss: 1.3346 - val_accuracy: 0.6517\n",
      "Epoch 5/30\n",
      "1780/1780 [==============================] - 0s 192us/sample - loss: 1.2044 - accuracy: 0.7742 - val_loss: 1.1225 - val_accuracy: 0.8292\n",
      "Epoch 6/30\n",
      "1780/1780 [==============================] - 0s 183us/sample - loss: 0.9785 - accuracy: 0.8708 - val_loss: 0.9142 - val_accuracy: 0.8337\n",
      "Epoch 7/30\n",
      "1780/1780 [==============================] - 0s 187us/sample - loss: 0.7814 - accuracy: 0.8837 - val_loss: 0.7464 - val_accuracy: 0.8719\n",
      "Epoch 8/30\n",
      "1780/1780 [==============================] - 0s 178us/sample - loss: 0.6241 - accuracy: 0.9034 - val_loss: 0.6254 - val_accuracy: 0.8742\n",
      "Epoch 9/30\n",
      "1780/1780 [==============================] - 0s 171us/sample - loss: 0.5086 - accuracy: 0.9191 - val_loss: 0.5391 - val_accuracy: 0.8876\n",
      "Epoch 10/30\n",
      "1780/1780 [==============================] - 0s 183us/sample - loss: 0.4224 - accuracy: 0.9270 - val_loss: 0.4709 - val_accuracy: 0.8966\n",
      "Epoch 11/30\n",
      "1780/1780 [==============================] - 0s 186us/sample - loss: 0.3530 - accuracy: 0.9427 - val_loss: 0.4209 - val_accuracy: 0.8989\n",
      "Epoch 12/30\n",
      "1780/1780 [==============================] - 0s 182us/sample - loss: 0.2963 - accuracy: 0.9500 - val_loss: 0.3813 - val_accuracy: 0.9034\n",
      "Epoch 13/30\n",
      "1780/1780 [==============================] - 0s 180us/sample - loss: 0.2515 - accuracy: 0.9534 - val_loss: 0.3475 - val_accuracy: 0.9101\n",
      "Epoch 14/30\n",
      "1780/1780 [==============================] - 0s 177us/sample - loss: 0.2149 - accuracy: 0.9646 - val_loss: 0.3239 - val_accuracy: 0.9169\n",
      "Epoch 15/30\n",
      "1780/1780 [==============================] - 0s 176us/sample - loss: 0.1851 - accuracy: 0.9697 - val_loss: 0.3016 - val_accuracy: 0.9258\n",
      "Epoch 16/30\n",
      "1780/1780 [==============================] - 0s 189us/sample - loss: 0.1608 - accuracy: 0.9747 - val_loss: 0.2856 - val_accuracy: 0.9281\n",
      "Epoch 17/30\n",
      "1780/1780 [==============================] - 0s 189us/sample - loss: 0.1412 - accuracy: 0.9781 - val_loss: 0.2762 - val_accuracy: 0.9258\n",
      "Epoch 18/30\n",
      "1780/1780 [==============================] - 0s 192us/sample - loss: 0.1241 - accuracy: 0.9826 - val_loss: 0.2669 - val_accuracy: 0.9281\n",
      "Epoch 19/30\n",
      "1780/1780 [==============================] - 0s 191us/sample - loss: 0.1103 - accuracy: 0.9848 - val_loss: 0.2535 - val_accuracy: 0.9303\n",
      "Epoch 20/30\n",
      "1780/1780 [==============================] - 0s 191us/sample - loss: 0.0973 - accuracy: 0.9899 - val_loss: 0.2477 - val_accuracy: 0.9326\n",
      "Epoch 21/30\n",
      "1780/1780 [==============================] - 0s 193us/sample - loss: 0.0872 - accuracy: 0.9910 - val_loss: 0.2399 - val_accuracy: 0.9326\n",
      "Epoch 22/30\n",
      "1780/1780 [==============================] - 0s 202us/sample - loss: 0.0782 - accuracy: 0.9921 - val_loss: 0.2344 - val_accuracy: 0.9303\n",
      "Epoch 23/30\n",
      "1780/1780 [==============================] - 0s 192us/sample - loss: 0.0702 - accuracy: 0.9933 - val_loss: 0.2322 - val_accuracy: 0.9326\n",
      "Epoch 24/30\n",
      "1780/1780 [==============================] - 0s 177us/sample - loss: 0.0629 - accuracy: 0.9944 - val_loss: 0.2315 - val_accuracy: 0.9326\n",
      "Epoch 25/30\n",
      "1780/1780 [==============================] - 0s 178us/sample - loss: 0.0571 - accuracy: 0.9949 - val_loss: 0.2261 - val_accuracy: 0.9326\n",
      "Epoch 26/30\n",
      "1780/1780 [==============================] - 0s 180us/sample - loss: 0.0512 - accuracy: 0.9955 - val_loss: 0.2236 - val_accuracy: 0.9348\n",
      "Epoch 27/30\n",
      "1780/1780 [==============================] - 0s 178us/sample - loss: 0.0465 - accuracy: 0.9966 - val_loss: 0.2232 - val_accuracy: 0.9348\n",
      "Epoch 28/30\n",
      "1780/1780 [==============================] - 0s 175us/sample - loss: 0.0424 - accuracy: 0.9978 - val_loss: 0.2193 - val_accuracy: 0.9371\n",
      "Epoch 29/30\n",
      "1780/1780 [==============================] - 0s 182us/sample - loss: 0.0382 - accuracy: 0.9983 - val_loss: 0.2153 - val_accuracy: 0.9393\n",
      "Epoch 30/30\n",
      "1780/1780 [==============================] - 0s 184us/sample - loss: 0.0347 - accuracy: 0.9989 - val_loss: 0.2145 - val_accuracy: 0.9393\n"
     ]
    }
   ],
   "source": [
    "history = model.fit(train_padded, training_label_seq, epochs=30,\n",
    "                    validation_data=(validation_padded, validation_label_seq))"
   ]
  },
  {
   "cell_type": "code",
   "execution_count": 14,
   "metadata": {},
   "outputs": [
    {
     "data": {
      "image/png": "[encoded data removed]",
      "text/plain": [
       "<Figure size 432x288 with 1 Axes>"
      ]
     },
     "metadata": {
      "needs_background": "light"
     },
     "output_type": "display_data"
    },
    {
     "data": {
      "image/png": "[encoded data removed]",
      "text/plain": [
       "<Figure size 432x288 with 1 Axes>"
      ]
     },
     "metadata": {
      "needs_background": "light"
     },
     "output_type": "display_data"
    }
   ],
   "source": [
    "import matplotlib.pyplot as plt\n",
    "\n",
    "\n",
    "def plot_graphs(history, string):\n",
    "    plt.plot(history.history[string])\n",
    "    plt.plot(history.history['val_'+string])\n",
    "    plt.xlabel(\"Epochs\")\n",
    "    plt.ylabel(string)\n",
    "    plt.legend([string, 'val_'+string])\n",
    "    plt.show()\n",
    "\n",
    "plot_graphs(history, \"accuracy\")\n",
    "plot_graphs(history, \"loss\")"
   ]
  },
  {
   "cell_type": "code",
   "execution_count": null,
   "metadata": {},
   "outputs": [],
   "source": []
  }
 ],
 "metadata": {
  "kernelspec": {
   "display_name": "Python 3",
   "language": "python",
   "name": "python3"
  },
  "language_info": {
   "codemirror_mode": {
    "name": "ipython",
    "version": 3
   },
   "file_extension": ".py",
   "mimetype": "text/x-python",
   "name": "python",
   "nbconvert_exporter": "python",
   "pygments_lexer": "ipython3",
   "version": "3.7.5"
  }
 },
 "nbformat": 4,
 "nbformat_minor": 4
}
