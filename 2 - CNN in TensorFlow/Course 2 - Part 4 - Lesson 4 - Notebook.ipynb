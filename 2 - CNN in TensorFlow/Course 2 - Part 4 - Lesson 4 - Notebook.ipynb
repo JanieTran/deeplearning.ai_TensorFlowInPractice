{
 "cells": [
  {
   "cell_type": "code",
   "execution_count": 1,
   "metadata": {
    "colab": {},
    "colab_type": "code",
    "id": "RXZT2UsyIVe_"
   },
   "outputs": [],
   "source": [
    "# !wget --no-check-certificate \\\n",
    "#     https://storage.googleapis.com/laurencemoroney-blog.appspot.com/horse-or-human.zip \\\n",
    "#     -O /tmp/horse-or-human.zip\n",
    "\n",
    "# !wget --no-check-certificate \\\n",
    "#     https://storage.googleapis.com/laurencemoroney-blog.appspot.com/validation-horse-or-human.zip \\\n",
    "#     -O /tmp/validation-horse-or-human.zip\n",
    "  \n",
    "import os\n",
    "# import zipfile\n",
    "\n",
    "# local_zip = '/tmp/horse-or-human.zip'\n",
    "# zip_ref = zipfile.ZipFile(local_zip, 'r')\n",
    "# zip_ref.extractall('/tmp/horse-or-human')\n",
    "# local_zip = '/tmp/validation-horse-or-human.zip'\n",
    "# zip_ref = zipfile.ZipFile(local_zip, 'r')\n",
    "# zip_ref.extractall('/tmp/validation-horse-or-human')\n",
    "# zip_ref.close()\n",
    "\n",
    "# Directory with our training horse pictures\n",
    "train_horse_dir = os.path.join('tmp/horse-or-human/horses')\n",
    "\n",
    "# Directory with our training human pictures\n",
    "train_human_dir = os.path.join('tmp/horse-or-human/humans')\n",
    "\n",
    "# Directory with our training horse pictures\n",
    "validation_horse_dir = os.path.join('tmp/validation-horse-or-human/horses')\n",
    "\n",
    "# Directory with our training human pictures\n",
    "validation_human_dir = os.path.join('tmp/validation-horse-or-human/humans')"
   ]
  },
  {
   "cell_type": "markdown",
   "metadata": {
    "colab_type": "text",
    "id": "5oqBkNBJmtUv"
   },
   "source": [
    "## Building a Small Model from Scratch\n",
    "\n",
    "But before we continue, let's start defining the model:\n",
    "\n",
    "Step 1 will be to import tensorflow."
   ]
  },
  {
   "cell_type": "code",
   "execution_count": 2,
   "metadata": {
    "colab": {},
    "colab_type": "code",
    "id": "qvfZg3LQbD-5"
   },
   "outputs": [],
   "source": [
    "import tensorflow as tf"
   ]
  },
  {
   "cell_type": "markdown",
   "metadata": {
    "colab_type": "text",
    "id": "BnhYCP4tdqjC"
   },
   "source": [
    "We then add convolutional layers as in the previous example, and flatten the final result to feed into the densely connected layers."
   ]
  },
  {
   "cell_type": "markdown",
   "metadata": {
    "colab_type": "text",
    "id": "gokG5HKpdtzm"
   },
   "source": [
    "Finally we add the densely connected layers. \n",
    "\n",
    "Note that because we are facing a two-class classification problem, i.e. a *binary classification problem*, we will end our network with a [*sigmoid* activation](https://wikipedia.org/wiki/Sigmoid_function), so that the output of our network will be a single scalar between 0 and 1, encoding the probability that the current image is class 1 (as opposed to class 0)."
   ]
  },
  {
   "cell_type": "code",
   "execution_count": 3,
   "metadata": {
    "colab": {},
    "colab_type": "code",
    "id": "PixZ2s5QbYQ3"
   },
   "outputs": [],
   "source": [
    "model = tf.keras.models.Sequential([\n",
    "    # Note the input shape is the desired size of the image 300x300 with 3 bytes color\n",
    "    # This is the first convolution\n",
    "    tf.keras.layers.Conv2D(16, (3,3), activation='relu', input_shape=(150, 150, 3)),\n",
    "    tf.keras.layers.MaxPooling2D(2, 2),\n",
    "    # The second convolution\n",
    "    tf.keras.layers.Conv2D(32, (3,3), activation='relu'),\n",
    "    tf.keras.layers.MaxPooling2D(2,2),\n",
    "    # The third convolution\n",
    "    tf.keras.layers.Conv2D(64, (3,3), activation='relu'),\n",
    "    tf.keras.layers.MaxPooling2D(2,2),\n",
    "    # The fourth convolution\n",
    "    tf.keras.layers.Conv2D(64, (3,3), activation='relu'),\n",
    "    tf.keras.layers.MaxPooling2D(2,2),\n",
    "    # The fifth convolution\n",
    "    tf.keras.layers.Conv2D(64, (3,3), activation='relu'),\n",
    "    tf.keras.layers.MaxPooling2D(2,2),\n",
    "    # Flatten the results to feed into a DNN\n",
    "    tf.keras.layers.Flatten(),\n",
    "    # 512 neuron hidden layer\n",
    "    tf.keras.layers.Dense(512, activation='relu'),\n",
    "    # Only 1 output neuron. It will contain a value from 0-1 where 0 for 1 class ('horses') and 1 for the other ('humans')\n",
    "    tf.keras.layers.Dense(1, activation='sigmoid')\n",
    "])"
   ]
  },
  {
   "cell_type": "code",
   "execution_count": 4,
   "metadata": {
    "colab": {},
    "colab_type": "code",
    "id": "8DHWhFP_uhq3"
   },
   "outputs": [],
   "source": [
    "from tensorflow.keras.optimizers import RMSprop\n",
    "\n",
    "model.compile(loss='binary_crossentropy',\n",
    "              optimizer=RMSprop(lr=1e-4),\n",
    "              metrics=['acc'])"
   ]
  },
  {
   "cell_type": "code",
   "execution_count": 5,
   "metadata": {
    "colab": {},
    "colab_type": "code",
    "id": "ClebU9NJg99G"
   },
   "outputs": [
    {
     "name": "stdout",
     "output_type": "stream",
     "text": [
      "Found 1027 images belonging to 2 classes.\n",
      "Found 256 images belonging to 2 classes.\n"
     ]
    }
   ],
   "source": [
    "from tensorflow.keras.preprocessing.image import ImageDataGenerator\n",
    "\n",
    "# All images will be rescaled by 1./255\n",
    "train_datagen = ImageDataGenerator(\n",
    "      rescale=1./255,\n",
    "      rotation_range=40,\n",
    "      width_shift_range=0.2,\n",
    "      height_shift_range=0.2,\n",
    "      shear_range=0.2,\n",
    "      zoom_range=0.2,\n",
    "      horizontal_flip=True,\n",
    "      fill_mode='nearest')\n",
    "\n",
    "validation_datagen = ImageDataGenerator(rescale=1/255)\n",
    "\n",
    "# Flow training images in batches of 128 using train_datagen generator\n",
    "train_generator = train_datagen.flow_from_directory(\n",
    "        'tmp/horse-or-human/',  # This is the source directory for training images\n",
    "        target_size=(150, 150),  # All images will be resized to 150x150\n",
    "        batch_size=16,\n",
    "        # Since we use binary_crossentropy loss, we need binary labels\n",
    "        class_mode='binary')\n",
    "\n",
    "# Flow training images in batches of 128 using train_datagen generator\n",
    "validation_generator = validation_datagen.flow_from_directory(\n",
    "        'tmp/validation-horse-or-human/',  # This is the source directory for training images\n",
    "        target_size=(150, 150),  # All images will be resized to 150x150\n",
    "        batch_size=16,\n",
    "        # Since we use binary_crossentropy loss, we need binary labels\n",
    "        class_mode='binary')"
   ]
  },
  {
   "cell_type": "code",
   "execution_count": 9,
   "metadata": {
    "colab": {},
    "colab_type": "code",
    "id": "Fb1_lgobv81m"
   },
   "outputs": [
    {
     "name": "stdout",
     "output_type": "stream",
     "text": [
      "Epoch 1/50\n",
      "64/64 [==============================] - 11s 172ms/step - loss: 0.5543 - acc: 0.7161 - val_loss: 0.8212 - val_acc: 0.5000\n",
      "Epoch 2/50\n",
      "64/64 [==============================] - 11s 176ms/step - loss: 0.5189 - acc: 0.7310 - val_loss: 0.5537 - val_acc: 0.6758\n",
      "Epoch 3/50\n",
      "64/64 [==============================] - 11s 174ms/step - loss: 0.4997 - acc: 0.7537 - val_loss: 0.6475 - val_acc: 0.6328\n",
      "Epoch 4/50\n",
      "64/64 [==============================] - 11s 179ms/step - loss: 0.4584 - acc: 0.7735 - val_loss: 0.8996 - val_acc: 0.5586\n",
      "Epoch 5/50\n",
      "64/64 [==============================] - 12s 190ms/step - loss: 0.4156 - acc: 0.7883 - val_loss: 0.4843 - val_acc: 0.7695\n",
      "Epoch 6/50\n",
      "64/64 [==============================] - 13s 206ms/step - loss: 0.3992 - acc: 0.8042 - val_loss: 0.9076 - val_acc: 0.6172\n",
      "Epoch 7/50\n",
      "64/64 [==============================] - 13s 208ms/step - loss: 0.3831 - acc: 0.8229 - val_loss: 1.0477 - val_acc: 0.6094\n",
      "Epoch 8/50\n",
      "64/64 [==============================] - 13s 196ms/step - loss: 0.3596 - acc: 0.8220 - val_loss: 1.4297 - val_acc: 0.5508\n",
      "Epoch 9/50\n",
      "64/64 [==============================] - 12s 192ms/step - loss: 0.3387 - acc: 0.8486 - val_loss: 1.3002 - val_acc: 0.5977\n",
      "Epoch 10/50\n",
      "64/64 [==============================] - 12s 183ms/step - loss: 0.3022 - acc: 0.8597 - val_loss: 1.2168 - val_acc: 0.6172\n",
      "Epoch 11/50\n",
      "64/64 [==============================] - 12s 187ms/step - loss: 0.3033 - acc: 0.8645 - val_loss: 2.3013 - val_acc: 0.5000\n",
      "Epoch 12/50\n",
      "64/64 [==============================] - 12s 188ms/step - loss: 0.2440 - acc: 0.8961 - val_loss: 0.7924 - val_acc: 0.7539\n",
      "Epoch 13/50\n",
      "64/64 [==============================] - 12s 186ms/step - loss: 0.2689 - acc: 0.8793 - val_loss: 0.9430 - val_acc: 0.7305\n",
      "Epoch 14/50\n",
      "64/64 [==============================] - 11s 176ms/step - loss: 0.2697 - acc: 0.8734 - val_loss: 1.4097 - val_acc: 0.6289\n",
      "Epoch 15/50\n",
      "64/64 [==============================] - 11s 170ms/step - loss: 0.2572 - acc: 0.8744 - val_loss: 1.3834 - val_acc: 0.6406\n",
      "Epoch 16/50\n",
      "64/64 [==============================] - 12s 186ms/step - loss: 0.2136 - acc: 0.9139 - val_loss: 1.7660 - val_acc: 0.6172\n",
      "Epoch 17/50\n",
      "64/64 [==============================] - 12s 188ms/step - loss: 0.2128 - acc: 0.9082 - val_loss: 1.3266 - val_acc: 0.6797\n",
      "Epoch 18/50\n",
      "64/64 [==============================] - 11s 177ms/step - loss: 0.1996 - acc: 0.9218 - val_loss: 1.1185 - val_acc: 0.7188\n",
      "Epoch 19/50\n",
      "64/64 [==============================] - 11s 177ms/step - loss: 0.2064 - acc: 0.9189 - val_loss: 2.2639 - val_acc: 0.5898\n",
      "Epoch 20/50\n",
      "64/64 [==============================] - 12s 182ms/step - loss: 0.2062 - acc: 0.9128 - val_loss: 2.0621 - val_acc: 0.6133\n",
      "Epoch 21/50\n",
      "64/64 [==============================] - 12s 192ms/step - loss: 0.1881 - acc: 0.9209 - val_loss: 0.9020 - val_acc: 0.7578\n",
      "Epoch 22/50\n",
      "64/64 [==============================] - 12s 190ms/step - loss: 0.1872 - acc: 0.9238 - val_loss: 0.5283 - val_acc: 0.8438\n",
      "Epoch 23/50\n",
      "64/64 [==============================] - 12s 188ms/step - loss: 0.1672 - acc: 0.9357 - val_loss: 2.2480 - val_acc: 0.6211\n",
      "Epoch 24/50\n",
      "64/64 [==============================] - 13s 197ms/step - loss: 0.1592 - acc: 0.9407 - val_loss: 1.0346 - val_acc: 0.7617\n",
      "Epoch 25/50\n",
      "64/64 [==============================] - 12s 184ms/step - loss: 0.1462 - acc: 0.9436 - val_loss: 1.2574 - val_acc: 0.7305\n",
      "Epoch 26/50\n",
      "64/64 [==============================] - 12s 194ms/step - loss: 0.1567 - acc: 0.9387 - val_loss: 1.3917 - val_acc: 0.6992\n",
      "Epoch 27/50\n",
      "64/64 [==============================] - 12s 190ms/step - loss: 0.1414 - acc: 0.9466 - val_loss: 4.3534 - val_acc: 0.5039\n",
      "Epoch 28/50\n",
      "64/64 [==============================] - 12s 189ms/step - loss: 0.1353 - acc: 0.9456 - val_loss: 1.0223 - val_acc: 0.7734\n",
      "Epoch 29/50\n",
      "64/64 [==============================] - 12s 186ms/step - loss: 0.1193 - acc: 0.9453 - val_loss: 1.2463 - val_acc: 0.7344\n",
      "Epoch 30/50\n",
      "64/64 [==============================] - 12s 192ms/step - loss: 0.1261 - acc: 0.9519 - val_loss: 2.5175 - val_acc: 0.6328\n",
      "Epoch 31/50\n",
      "64/64 [==============================] - 12s 185ms/step - loss: 0.1416 - acc: 0.9434 - val_loss: 2.6116 - val_acc: 0.6250\n",
      "Epoch 32/50\n",
      "64/64 [==============================] - 12s 183ms/step - loss: 0.1158 - acc: 0.9585 - val_loss: 0.8943 - val_acc: 0.8086\n",
      "Epoch 33/50\n",
      "64/64 [==============================] - 11s 176ms/step - loss: 0.1235 - acc: 0.9585 - val_loss: 2.6319 - val_acc: 0.6211\n",
      "Epoch 34/50\n",
      "64/64 [==============================] - 11s 173ms/step - loss: 0.0991 - acc: 0.9565 - val_loss: 2.2457 - val_acc: 0.6484\n",
      "Epoch 35/50\n",
      "64/64 [==============================] - 11s 173ms/step - loss: 0.1493 - acc: 0.9555 - val_loss: 1.8043 - val_acc: 0.6602\n",
      "Epoch 36/50\n",
      "64/64 [==============================] - 11s 172ms/step - loss: 0.1244 - acc: 0.9565 - val_loss: 0.6919 - val_acc: 0.8281\n",
      "Epoch 37/50\n",
      "64/64 [==============================] - 11s 168ms/step - loss: 0.1038 - acc: 0.9559 - val_loss: 1.9857 - val_acc: 0.6641\n",
      "Epoch 38/50\n",
      "64/64 [==============================] - 12s 183ms/step - loss: 0.0997 - acc: 0.9713 - val_loss: 0.9865 - val_acc: 0.7930\n",
      "Epoch 39/50\n",
      "64/64 [==============================] - 12s 192ms/step - loss: 0.1048 - acc: 0.9604 - val_loss: 4.5170 - val_acc: 0.5352\n",
      "Epoch 40/50\n",
      "64/64 [==============================] - 12s 191ms/step - loss: 0.0903 - acc: 0.9664 - val_loss: 2.2226 - val_acc: 0.6328\n",
      "Epoch 41/50\n",
      "64/64 [==============================] - 12s 191ms/step - loss: 0.0915 - acc: 0.9678 - val_loss: 4.0556 - val_acc: 0.5586\n",
      "Epoch 42/50\n",
      "64/64 [==============================] - 12s 185ms/step - loss: 0.0839 - acc: 0.9713 - val_loss: 1.7289 - val_acc: 0.6992\n",
      "Epoch 43/50\n",
      "64/64 [==============================] - 12s 187ms/step - loss: 0.0745 - acc: 0.9713 - val_loss: 3.2775 - val_acc: 0.5977\n",
      "Epoch 44/50\n",
      "64/64 [==============================] - 11s 172ms/step - loss: 0.0793 - acc: 0.9674 - val_loss: 3.2804 - val_acc: 0.5977\n",
      "Epoch 45/50\n",
      "64/64 [==============================] - 11s 173ms/step - loss: 0.0744 - acc: 0.9733 - val_loss: 1.4537 - val_acc: 0.7305\n",
      "Epoch 46/50\n",
      "64/64 [==============================] - 12s 183ms/step - loss: 0.0746 - acc: 0.9703 - val_loss: 2.6409 - val_acc: 0.6328\n",
      "Epoch 47/50\n",
      "64/64 [==============================] - 12s 180ms/step - loss: 0.0969 - acc: 0.9649 - val_loss: 2.6297 - val_acc: 0.6289\n",
      "Epoch 48/50\n",
      "64/64 [==============================] - 12s 188ms/step - loss: 0.0722 - acc: 0.9733 - val_loss: 4.1486 - val_acc: 0.5742\n",
      "Epoch 49/50\n",
      "64/64 [==============================] - 13s 200ms/step - loss: 0.0840 - acc: 0.9727 - val_loss: 2.2440 - val_acc: 0.6641\n",
      "Epoch 50/50\n",
      "64/64 [==============================] - 12s 187ms/step - loss: 0.0613 - acc: 0.9763 - val_loss: 4.1865 - val_acc: 0.5586\n"
     ]
    }
   ],
   "source": [
    "import gc\n",
    "gc.collect()\n",
    "\n",
    "history = model.fit_generator(\n",
    "      train_generator,\n",
    "      steps_per_epoch=64,  \n",
    "      epochs=50,\n",
    "      verbose=1,\n",
    "      validation_data=validation_generator,\n",
    "      validation_steps=16)"
   ]
  },
  {
   "cell_type": "code",
   "execution_count": 10,
   "metadata": {
    "colab": {},
    "colab_type": "code",
    "id": "7zNPRWOVJdOH"
   },
   "outputs": [
    {
     "data": {
      "image/png": "[encoded data removed]",
      "text/plain": [
       "<Figure size 432x288 with 1 Axes>"
      ]
     },
     "metadata": {
      "needs_background": "light"
     },
     "output_type": "display_data"
    },
    {
     "data": {
      "image/png": "[encoded data removed]",
      "text/plain": [
       "<Figure size 432x288 with 1 Axes>"
      ]
     },
     "metadata": {
      "needs_background": "light"
     },
     "output_type": "display_data"
    }
   ],
   "source": [
    "import matplotlib.pyplot as plt\n",
    "acc = history.history['acc']\n",
    "val_acc = history.history['val_acc']\n",
    "loss = history.history['loss']\n",
    "val_loss = history.history['val_loss']\n",
    "\n",
    "epochs = range(len(acc))\n",
    "\n",
    "plt.plot(epochs, acc, 'r', label='Training accuracy')\n",
    "plt.plot(epochs, val_acc, 'b', label='Validation accuracy')\n",
    "plt.title('Training and validation accuracy')\n",
    "\n",
    "plt.figure()\n",
    "\n",
    "plt.plot(epochs, loss, 'r', label='Training Loss')\n",
    "plt.plot(epochs, val_loss, 'b', label='Validation Loss')\n",
    "plt.title('Training and validation loss')\n",
    "plt.legend()\n",
    "\n",
    "plt.show()"
   ]
  },
  {
   "cell_type": "code",
   "execution_count": null,
   "metadata": {},
   "outputs": [],
   "source": []
  }
 ],
 "metadata": {
  "accelerator": "GPU",
  "colab": {
   "collapsed_sections": [],
   "name": "Horse-or-Human-WithAugmentation.ipynb",
   "provenance": [],
   "toc_visible": true,
   "version": "0.3.2"
  },
  "kernelspec": {
   "display_name": "Python 3",
   "language": "python",
   "name": "python3"
  },
  "language_info": {
   "codemirror_mode": {
    "name": "ipython",
    "version": 3
   },
   "file_extension": ".py",
   "mimetype": "text/x-python",
   "name": "python",
   "nbconvert_exporter": "python",
   "pygments_lexer": "ipython3",
   "version": "3.7.5"
  }
 },
 "nbformat": 4,
 "nbformat_minor": 4
}
