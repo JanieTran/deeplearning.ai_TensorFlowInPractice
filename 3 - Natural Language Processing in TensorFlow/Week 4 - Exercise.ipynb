{
 "cells": [
  {
   "cell_type": "code",
   "execution_count": 1,
   "metadata": {},
   "outputs": [],
   "source": [
    "from tensorflow.keras.preprocessing.sequence import pad_sequences\n",
    "from tensorflow.keras.layers import Embedding, LSTM, Dense, Dropout, Bidirectional\n",
    "from tensorflow.keras.preprocessing.text import Tokenizer\n",
    "from tensorflow.keras.models import Sequential\n",
    "from tensorflow.keras.optimizers import Adam\n",
    "from tensorflow.keras.regularizers import l2\n",
    "\n",
    "import tensorflow.keras.utils as ku \n",
    "import numpy as np"
   ]
  },
  {
   "cell_type": "code",
   "execution_count": 2,
   "metadata": {},
   "outputs": [
    {
     "name": "stdout",
     "output_type": "stream",
     "text": [
      "Corpus: 2159\n",
      "['from fairest creatures we desire increase,', \"that thereby beauty's rose might never die,\", 'but as the riper should by time decease,', 'his tender heir might bear his memory:', 'but thou, contracted to thine own bright eyes,', \"feed'st thy light'st flame with self-substantial fuel,\", 'making a famine where abundance lies,', 'thyself thy foe, to thy sweet self too cruel.', \"thou that art now the world's fresh ornament\", 'and only herald to the gaudy spring,']\n"
     ]
    }
   ],
   "source": [
    "data = open('tmp/sonnets.txt').read()\n",
    "\n",
    "corpus = data.lower().split(\"\\n\")\n",
    "\n",
    "print('Corpus:', len(corpus))\n",
    "print(corpus[:10])"
   ]
  },
  {
   "cell_type": "code",
   "execution_count": 3,
   "metadata": {},
   "outputs": [
    {
     "name": "stdout",
     "output_type": "stream",
     "text": [
      "3211\n"
     ]
    }
   ],
   "source": [
    "tokenizer = Tokenizer()\n",
    "tokenizer.fit_on_texts(corpus)\n",
    "\n",
    "total_words = len(tokenizer.word_index) + 1\n",
    "print(total_words)"
   ]
  },
  {
   "cell_type": "code",
   "execution_count": 4,
   "metadata": {},
   "outputs": [],
   "source": [
    "# Create input sequences using list of tokens\n",
    "input_sequences = []\n",
    "for line in corpus:\n",
    "\ttoken_list = tokenizer.texts_to_sequences([line])[0]\n",
    "\tfor i in range(1, len(token_list)):\n",
    "\t\tn_gram_sequence = token_list[:i+1]\n",
    "\t\tinput_sequences.append(n_gram_sequence)"
   ]
  },
  {
   "cell_type": "code",
   "execution_count": 5,
   "metadata": {},
   "outputs": [],
   "source": [
    "# Pad sequences \n",
    "max_sequence_len = max([len(x) for x in input_sequences])\n",
    "input_sequences = np.array(pad_sequences(input_sequences, maxlen=max_sequence_len, padding='pre'))\n",
    "\n",
    "# Create predictors and label\n",
    "predictors = input_sequences[:,:-1],\n",
    "label = input_sequences[:,-1]\n",
    "label = ku.to_categorical(label, num_classes=total_words)"
   ]
  },
  {
   "cell_type": "code",
   "execution_count": 8,
   "metadata": {},
   "outputs": [
    {
     "name": "stdout",
     "output_type": "stream",
     "text": [
      "Model: \"sequential_1\"\n",
      "_________________________________________________________________\n",
      "Layer (type)                 Output Shape              Param #   \n",
      "=================================================================\n",
      "embedding_1 (Embedding)      (None, 10, 100)           321100    \n",
      "_________________________________________________________________\n",
      "bidirectional_2 (Bidirection (None, 10, 300)           301200    \n",
      "_________________________________________________________________\n",
      "dropout_1 (Dropout)          (None, 10, 300)           0         \n",
      "_________________________________________________________________\n",
      "bidirectional_3 (Bidirection (None, 200)               320800    \n",
      "_________________________________________________________________\n",
      "dense_2 (Dense)              (None, 1605)              322605    \n",
      "_________________________________________________________________\n",
      "dense_3 (Dense)              (None, 3211)              5156866   \n",
      "=================================================================\n",
      "Total params: 6,422,571\n",
      "Trainable params: 6,422,571\n",
      "Non-trainable params: 0\n",
      "_________________________________________________________________\n",
      "None\n"
     ]
    }
   ],
   "source": [
    "model = Sequential()\n",
    "model.add(Embedding(input_dim=total_words, output_dim=100, input_length=max_sequence_len - 1))\n",
    "model.add(Bidirectional(LSTM(150, return_sequences=True)))\n",
    "model.add(Dropout(rate=.2))\n",
    "model.add(Bidirectional(LSTM(100)))\n",
    "model.add(Dense(units=total_words // 2, kernel_regularizer=l2(0.01), activation='relu'))\n",
    "model.add(Dense(units=total_words, activation='softmax'))\n",
    "\n",
    "model.compile(optimizer='adam', loss='categorical_crossentropy', metrics=['accuracy'])\n",
    "print(model.summary())"
   ]
  },
  {
   "cell_type": "code",
   "execution_count": 9,
   "metadata": {},
   "outputs": [
    {
     "name": "stdout",
     "output_type": "stream",
     "text": [
      "Train on 15462 samples\n",
      "Epoch 1/100\n",
      "15462/15462 [==============================] - 18s 1ms/sample - loss: 6.9611 - accuracy: 0.0228\n",
      "Epoch 2/100\n",
      "15462/15462 [==============================] - 11s 710us/sample - loss: 6.5052 - accuracy: 0.0213\n",
      "Epoch 3/100\n",
      "15462/15462 [==============================] - 11s 711us/sample - loss: 6.4144 - accuracy: 0.0248\n",
      "Epoch 4/100\n",
      "15462/15462 [==============================] - 11s 713us/sample - loss: 6.2917 - accuracy: 0.0303\n",
      "Epoch 5/100\n",
      "15462/15462 [==============================] - 11s 710us/sample - loss: 6.1822 - accuracy: 0.0373\n",
      "Epoch 6/100\n",
      "15462/15462 [==============================] - 11s 713us/sample - loss: 6.0847 - accuracy: 0.0396\n",
      "Epoch 7/100\n",
      "15462/15462 [==============================] - 11s 713us/sample - loss: 5.9971 - accuracy: 0.0429\n",
      "Epoch 8/100\n",
      "15462/15462 [==============================] - 11s 713us/sample - loss: 5.8928 - accuracy: 0.0436\n",
      "Epoch 9/100\n",
      "15462/15462 [==============================] - 11s 714us/sample - loss: 5.7816 - accuracy: 0.0523\n",
      "Epoch 10/100\n",
      "15462/15462 [==============================] - 11s 713us/sample - loss: 5.6515 - accuracy: 0.0623\n",
      "Epoch 11/100\n",
      "15462/15462 [==============================] - 11s 712us/sample - loss: 5.5319 - accuracy: 0.0673\n",
      "Epoch 12/100\n",
      "15462/15462 [==============================] - 11s 711us/sample - loss: 5.4244 - accuracy: 0.0785\n",
      "Epoch 13/100\n",
      "15462/15462 [==============================] - 11s 711us/sample - loss: 5.3066 - accuracy: 0.0842\n",
      "Epoch 14/100\n",
      "15462/15462 [==============================] - 11s 712us/sample - loss: 5.2005 - accuracy: 0.0920\n",
      "Epoch 15/100\n",
      "15462/15462 [==============================] - 11s 712us/sample - loss: 5.0870 - accuracy: 0.1005\n",
      "Epoch 16/100\n",
      "15462/15462 [==============================] - 11s 711us/sample - loss: 4.9791 - accuracy: 0.1088\n",
      "Epoch 17/100\n",
      "15462/15462 [==============================] - 11s 713us/sample - loss: 4.8729 - accuracy: 0.1196\n",
      "Epoch 18/100\n",
      "15462/15462 [==============================] - 11s 704us/sample - loss: 4.7575 - accuracy: 0.1278\n",
      "Epoch 19/100\n",
      "15462/15462 [==============================] - 11s 713us/sample - loss: 4.6460 - accuracy: 0.1402\n",
      "Epoch 20/100\n",
      "15462/15462 [==============================] - 11s 709us/sample - loss: 4.5416 - accuracy: 0.1487\n",
      "Epoch 21/100\n",
      "15462/15462 [==============================] - 11s 710us/sample - loss: 4.4310 - accuracy: 0.1605\n",
      "Epoch 22/100\n",
      "15462/15462 [==============================] - 11s 711us/sample - loss: 4.3173 - accuracy: 0.1736\n",
      "Epoch 23/100\n",
      "15462/15462 [==============================] - 11s 712us/sample - loss: 4.1992 - accuracy: 0.1876\n",
      "Epoch 24/100\n",
      "15462/15462 [==============================] - 11s 712us/sample - loss: 4.0956 - accuracy: 0.2010\n",
      "Epoch 25/100\n",
      "15462/15462 [==============================] - 11s 712us/sample - loss: 3.9895 - accuracy: 0.2172\n",
      "Epoch 26/100\n",
      "15462/15462 [==============================] - 11s 713us/sample - loss: 3.8718 - accuracy: 0.2300\n",
      "Epoch 27/100\n",
      "15462/15462 [==============================] - 11s 712us/sample - loss: 3.7563 - accuracy: 0.2498\n",
      "Epoch 28/100\n",
      "15462/15462 [==============================] - 11s 711us/sample - loss: 3.6654 - accuracy: 0.2648\n",
      "Epoch 29/100\n",
      "15462/15462 [==============================] - 11s 712us/sample - loss: 3.5561 - accuracy: 0.2911\n",
      "Epoch 30/100\n",
      "15462/15462 [==============================] - 11s 712us/sample - loss: 3.4443 - accuracy: 0.3152\n",
      "Epoch 31/100\n",
      "15462/15462 [==============================] - 11s 704us/sample - loss: 3.3436 - accuracy: 0.3302\n",
      "Epoch 32/100\n",
      "15462/15462 [==============================] - 11s 711us/sample - loss: 3.2554 - accuracy: 0.3556\n",
      "Epoch 33/100\n",
      "15462/15462 [==============================] - 11s 711us/sample - loss: 3.1720 - accuracy: 0.3716\n",
      "Epoch 34/100\n",
      "15462/15462 [==============================] - 11s 711us/sample - loss: 3.0780 - accuracy: 0.3939\n",
      "Epoch 35/100\n",
      "15462/15462 [==============================] - 11s 712us/sample - loss: 2.9939 - accuracy: 0.4170\n",
      "Epoch 36/100\n",
      "15462/15462 [==============================] - 11s 711us/sample - loss: 2.9134 - accuracy: 0.4276\n",
      "Epoch 37/100\n",
      "15462/15462 [==============================] - 11s 710us/sample - loss: 2.8327 - accuracy: 0.4506\n",
      "Epoch 38/100\n",
      "15462/15462 [==============================] - 11s 711us/sample - loss: 2.7686 - accuracy: 0.4638\n",
      "Epoch 39/100\n",
      "15462/15462 [==============================] - 16s 1ms/sample - loss: 2.6848 - accuracy: 0.4838\n",
      "Epoch 40/100\n",
      "15462/15462 [==============================] - 24s 2ms/sample - loss: 2.6285 - accuracy: 0.4977\n",
      "Epoch 41/100\n",
      "15462/15462 [==============================] - 23s 1ms/sample - loss: 2.5443 - accuracy: 0.5168s -\n",
      "Epoch 42/100\n",
      "15462/15462 [==============================] - 21s 1ms/sample - loss: 2.4940 - accuracy: 0.5237\n",
      "Epoch 43/100\n",
      "15462/15462 [==============================] - 21s 1ms/sample - loss: 2.4236 - accuracy: 0.5437\n",
      "Epoch 44/100\n",
      "15462/15462 [==============================] - 22s 1ms/sample - loss: 2.3658 - accuracy: 0.5572\n",
      "Epoch 45/100\n",
      "15462/15462 [==============================] - 22s 1ms/sample - loss: 2.3256 - accuracy: 0.5689\n",
      "Epoch 46/100\n",
      "15462/15462 [==============================] - 21s 1ms/sample - loss: 2.2536 - accuracy: 0.5836\n",
      "Epoch 47/100\n",
      "15462/15462 [==============================] - 21s 1ms/sample - loss: 2.2008 - accuracy: 0.5927\n",
      "Epoch 48/100\n",
      "15462/15462 [==============================] - 21s 1ms/sample - loss: 2.1565 - accuracy: 0.6013\n",
      "Epoch 49/100\n",
      "15462/15462 [==============================] - 21s 1ms/sample - loss: 2.1091 - accuracy: 0.6110\n",
      "Epoch 50/100\n",
      "15462/15462 [==============================] - 23s 2ms/sample - loss: 2.0644 - accuracy: 0.6253\n",
      "Epoch 51/100\n",
      "15462/15462 [==============================] - 26s 2ms/sample - loss: 2.0112 - accuracy: 0.6358\n",
      "Epoch 52/100\n",
      "15462/15462 [==============================] - 27s 2ms/sample - loss: 1.9698 - accuracy: 0.6464\n",
      "Epoch 53/100\n",
      "15462/15462 [==============================] - 27s 2ms/sample - loss: 1.9240 - accuracy: 0.6554\n",
      "Epoch 54/100\n",
      "15462/15462 [==============================] - 22s 1ms/sample - loss: 1.8851 - accuracy: 0.6629\n",
      "Epoch 55/100\n",
      "15462/15462 [==============================] - 25s 2ms/sample - loss: 1.8429 - accuracy: 0.6777\n",
      "Epoch 56/100\n",
      "15462/15462 [==============================] - 21s 1ms/sample - loss: 1.8082 - accuracy: 0.6811\n",
      "Epoch 57/100\n",
      "15462/15462 [==============================] - 22s 1ms/sample - loss: 1.7839 - accuracy: 0.6866\n",
      "Epoch 58/100\n",
      "15462/15462 [==============================] - 21s 1ms/sample - loss: 1.7466 - accuracy: 0.6947\n",
      "Epoch 59/100\n",
      "15462/15462 [==============================] - 19s 1ms/sample - loss: 1.7035 - accuracy: 0.7034\n",
      "Epoch 60/100\n",
      "15462/15462 [==============================] - 14s 916us/sample - loss: 1.6704 - accuracy: 0.7117\n",
      "Epoch 61/100\n",
      "15462/15462 [==============================] - 17s 1ms/sample - loss: 1.6408 - accuracy: 0.7165\n",
      "Epoch 62/100\n",
      "15462/15462 [==============================] - 22s 1ms/sample - loss: 1.6269 - accuracy: 0.7183\n",
      "Epoch 63/100\n",
      "15462/15462 [==============================] - 15s 946us/sample - loss: 1.5943 - accuracy: 0.7251\n",
      "Epoch 64/100\n",
      "15462/15462 [==============================] - 14s 937us/sample - loss: 1.5561 - accuracy: 0.7351\n",
      "Epoch 65/100\n",
      "15462/15462 [==============================] - 21s 1ms/sample - loss: 1.5424 - accuracy: 0.7378\n",
      "Epoch 66/100\n",
      "15462/15462 [==============================] - 21s 1ms/sample - loss: 1.5079 - accuracy: 0.7410\n",
      "Epoch 67/100\n",
      "15462/15462 [==============================] - 21s 1ms/sample - loss: 1.4880 - accuracy: 0.7471\n",
      "Epoch 68/100\n",
      "15462/15462 [==============================] - 20s 1ms/sample - loss: 1.4627 - accuracy: 0.7507\n",
      "Epoch 69/100\n",
      "15462/15462 [==============================] - 20s 1ms/sample - loss: 1.4610 - accuracy: 0.7490\n",
      "Epoch 70/100\n",
      "15462/15462 [==============================] - 20s 1ms/sample - loss: 1.4515 - accuracy: 0.7505\n",
      "Epoch 71/100\n",
      "15462/15462 [==============================] - 20s 1ms/sample - loss: 1.4163 - accuracy: 0.7586\n",
      "Epoch 72/100\n",
      "15462/15462 [==============================] - 20s 1ms/sample - loss: 1.3756 - accuracy: 0.7672\n",
      "Epoch 73/100\n",
      "15462/15462 [==============================] - 20s 1ms/sample - loss: 1.3676 - accuracy: 0.7690\n",
      "Epoch 74/100\n",
      "15462/15462 [==============================] - 20s 1ms/sample - loss: 1.3456 - accuracy: 0.7734\n",
      "Epoch 75/100\n",
      "15462/15462 [==============================] - 20s 1ms/sample - loss: 1.3423 - accuracy: 0.7727\n",
      "Epoch 76/100\n",
      "15462/15462 [==============================] - 20s 1ms/sample - loss: 1.3152 - accuracy: 0.7780\n",
      "Epoch 77/100\n",
      "15462/15462 [==============================] - 14s 926us/sample - loss: 1.3057 - accuracy: 0.7804\n",
      "Epoch 78/100\n",
      "15462/15462 [==============================] - 14s 898us/sample - loss: 1.2910 - accuracy: 0.7798\n",
      "Epoch 79/100\n",
      "15462/15462 [==============================] - 13s 815us/sample - loss: 1.2786 - accuracy: 0.7815\n",
      "Epoch 80/100\n",
      "15462/15462 [==============================] - 13s 814us/sample - loss: 1.2588 - accuracy: 0.7877\n",
      "Epoch 81/100\n",
      "15462/15462 [==============================] - 12s 776us/sample - loss: 1.2484 - accuracy: 0.7855\n",
      "Epoch 82/100\n",
      "15462/15462 [==============================] - 11s 733us/sample - loss: 1.2127 - accuracy: 0.7960\n",
      "Epoch 83/100\n",
      "15462/15462 [==============================] - 11s 733us/sample - loss: 1.2094 - accuracy: 0.7936\n",
      "Epoch 84/100\n",
      "15462/15462 [==============================] - 11s 711us/sample - loss: 1.2088 - accuracy: 0.7958\n",
      "Epoch 85/100\n",
      "15462/15462 [==============================] - 11s 699us/sample - loss: 1.1971 - accuracy: 0.7962\n",
      "Epoch 86/100\n",
      "15462/15462 [==============================] - 11s 702us/sample - loss: 1.1868 - accuracy: 0.7973\n",
      "Epoch 87/100\n",
      "15462/15462 [==============================] - 11s 683us/sample - loss: 1.1692 - accuracy: 0.8015\n",
      "Epoch 88/100\n",
      "15462/15462 [==============================] - 11s 684us/sample - loss: 1.1515 - accuracy: 0.8031\n",
      "Epoch 89/100\n",
      "15462/15462 [==============================] - 11s 691us/sample - loss: 1.1621 - accuracy: 0.8003\n",
      "Epoch 90/100\n",
      "15462/15462 [==============================] - 11s 702us/sample - loss: 1.1480 - accuracy: 0.8013\n",
      "Epoch 91/100\n",
      "15462/15462 [==============================] - 11s 703us/sample - loss: 1.1269 - accuracy: 0.8079\n",
      "Epoch 92/100\n",
      "15462/15462 [==============================] - 11s 701us/sample - loss: 1.1328 - accuracy: 0.8055\n",
      "Epoch 93/100\n",
      "15462/15462 [==============================] - 11s 685us/sample - loss: 1.1178 - accuracy: 0.8066\n",
      "Epoch 94/100\n",
      "15462/15462 [==============================] - 11s 685us/sample - loss: 1.1018 - accuracy: 0.8119\n",
      "Epoch 95/100\n",
      "15462/15462 [==============================] - 11s 679us/sample - loss: 1.0891 - accuracy: 0.8128\n",
      "Epoch 96/100\n",
      "15462/15462 [==============================] - 10s 671us/sample - loss: 1.0760 - accuracy: 0.8122\n",
      "Epoch 97/100\n",
      "15462/15462 [==============================] - 10s 671us/sample - loss: 1.0751 - accuracy: 0.8158\n",
      "Epoch 98/100\n",
      "15462/15462 [==============================] - 11s 683us/sample - loss: 1.0908 - accuracy: 0.8091\n",
      "Epoch 99/100\n",
      "15462/15462 [==============================] - 11s 687us/sample - loss: 1.0639 - accuracy: 0.8152\n",
      "Epoch 100/100\n",
      "15462/15462 [==============================] - 11s 687us/sample - loss: 1.0548 - accuracy: 0.8158\n"
     ]
    }
   ],
   "source": [
    "import gc\n",
    "gc.collect()\n",
    "\n",
    "history = model.fit(predictors, label, epochs=100, verbose=1)"
   ]
  },
  {
   "cell_type": "code",
   "execution_count": 10,
   "metadata": {},
   "outputs": [
    {
     "data": {
      "image/png": "[encoded data removed]",
      "text/plain": [
       "<Figure size 432x288 with 1 Axes>"
      ]
     },
     "metadata": {
      "needs_background": "light"
     },
     "output_type": "display_data"
    },
    {
     "data": {
      "image/png": "[encoded data removed]",
      "text/plain": [
       "<Figure size 432x288 with 1 Axes>"
      ]
     },
     "metadata": {
      "needs_background": "light"
     },
     "output_type": "display_data"
    }
   ],
   "source": [
    "import matplotlib.pyplot as plt\n",
    "\n",
    "acc = history.history['accuracy']\n",
    "loss = history.history['loss']\n",
    "\n",
    "epochs = range(len(acc))\n",
    "\n",
    "plt.plot(epochs, acc, 'b', label='Training accuracy')\n",
    "plt.title('Training accuracy')\n",
    "\n",
    "plt.figure()\n",
    "\n",
    "plt.plot(epochs, loss, 'b', label='Training Loss')\n",
    "plt.title('Training loss')\n",
    "plt.legend()\n",
    "\n",
    "plt.show()"
   ]
  },
  {
   "cell_type": "code",
   "execution_count": 13,
   "metadata": {},
   "outputs": [
    {
     "name": "stdout",
     "output_type": "stream",
     "text": [
      "Help me Obi Wan Kenobi, you're my only hope \n",
      " or your image are shown go worth exchanged back\n",
      " in change days must approve your show be\n",
      " loss to catch me less fire now lie\n",
      " are we gone still twain go of catch\n",
      " me catch them back go thus more alchemy\n",
      " stand so old old view saith show your\n",
      " part to show thee scope so pain thee\n",
      " me alone seem well short men young thee\n",
      " we chide truly thought thee old pride '\n",
      " write words bright eye doth give them thine\n",
      " in thee was such speak old great best\n",
      " is ever it was ever more eye alone\n",
      " doth such mine\n"
     ]
    }
   ],
   "source": [
    "seed_text = \"Help me Obi Wan Kenobi, you're my only hope \\n\"\n",
    "next_words = 100\n",
    "\n",
    "max_line = 9\n",
    "word_count = 0\n",
    "\n",
    "for _ in range(next_words):\n",
    "    token_list = tokenizer.texts_to_sequences([seed_text])[0]\n",
    "    token_list = pad_sequences([token_list], maxlen=max_sequence_len-1, padding='pre')\n",
    "    predicted = model.predict_classes(token_list, verbose=0)\n",
    "    output_word = \"\"\n",
    "    for word, index in tokenizer.word_index.items():\n",
    "        if index == predicted:\n",
    "            output_word = word\n",
    "            break\n",
    "    seed_text += \" \" + output_word\n",
    "\n",
    "    word_count += 1\n",
    "    if word_count == max_line:\n",
    "        seed_text += '\\n'\n",
    "        word_count = 1\n",
    "    \n",
    "print(seed_text)"
   ]
  },
  {
   "cell_type": "code",
   "execution_count": null,
   "metadata": {},
   "outputs": [],
   "source": []
  }
 ],
 "metadata": {
  "kernelspec": {
   "display_name": "Python 3",
   "language": "python",
   "name": "python3"
  },
  "language_info": {
   "codemirror_mode": {
    "name": "ipython",
    "version": 3
   },
   "file_extension": ".py",
   "mimetype": "text/x-python",
   "name": "python",
   "nbconvert_exporter": "python",
   "pygments_lexer": "ipython3",
   "version": "3.7.5"
  }
 },
 "nbformat": 4,
 "nbformat_minor": 4
}
