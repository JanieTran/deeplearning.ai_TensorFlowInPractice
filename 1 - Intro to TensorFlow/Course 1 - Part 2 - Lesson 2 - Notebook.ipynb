{
 "cells": [
  {
   "cell_type": "markdown",
   "metadata": {
    "colab_type": "text",
    "id": "ZIAkIlfmCe1B"
   },
   "source": [
    "# The Hello World of Deep Learning with Neural Networks"
   ]
  },
  {
   "cell_type": "markdown",
   "metadata": {
    "colab_type": "text",
    "id": "fA93WUy1zzWf"
   },
   "source": [
    "Like every first app you should start with something super simple that shows the overall scaffolding for how your code works. \n",
    "\n",
    "In the case of creating neural networks, the sample I like to use is one where it learns the relationship between two numbers. So, for example, if you were writing code for a function like this, you already know the 'rules' — \n",
    "\n",
    "\n",
    "```\n",
    "float hw_function(float x){\n",
    "    float y = (2 * x) - 1;\n",
    "    return y;\n",
    "}\n",
    "```\n",
    "\n",
    "So how would you train a neural network to do the equivalent task? Using data! By feeding it with a set of Xs, and a set of Ys, it should be able to figure out the relationship between them. \n",
    "\n",
    "This is obviously a very different paradigm than what you might be used to, so let's step through it piece by piece.\n"
   ]
  },
  {
   "cell_type": "markdown",
   "metadata": {
    "colab_type": "text",
    "id": "DzbtdRcZDO9B"
   },
   "source": [
    "## Imports\n",
    "\n",
    "Let's start with our imports. Here we are importing TensorFlow and calling it tf for ease of use.\n",
    "\n",
    "We then import a library called numpy, which helps us to represent our data as lists easily and quickly.\n",
    "\n",
    "The framework for defining a neural network as a set of Sequential layers is called keras, so we import that too."
   ]
  },
  {
   "cell_type": "code",
   "execution_count": 1,
   "metadata": {},
   "outputs": [],
   "source": [
    "import tensorflow as tf\n",
    "import numpy as np\n",
    "from tensorflow import keras"
   ]
  },
  {
   "cell_type": "markdown",
   "metadata": {
    "colab_type": "text",
    "id": "wwJGmDrQ0EoB"
   },
   "source": [
    "## Define and Compile the Neural Network\n",
    "\n",
    "Next we will create the simplest possible neural network. It has 1 layer, and that layer has 1 neuron, and the input shape to it is just 1 value."
   ]
  },
  {
   "cell_type": "code",
   "execution_count": 2,
   "metadata": {},
   "outputs": [],
   "source": [
    "model = tf.keras.Sequential([keras.layers.Dense(units=1, input_shape=[1])])"
   ]
  },
  {
   "cell_type": "markdown",
   "metadata": {
    "colab_type": "text",
    "id": "KhjZjZ-c0Ok9"
   },
   "source": [
    "Now we compile our Neural Network. When we do so, we have to specify 2 functions, a loss and an optimizer.\n",
    "\n",
    "If you've seen lots of math for machine learning, here's where it's usually used, but in this case it's nicely encapsulated in functions for you. But what happens here — let's explain...\n",
    "\n",
    "We know that in our function, the relationship between the numbers is y=2x-1. \n",
    "\n",
    "When the computer is trying to 'learn' that, it makes a guess...maybe y=10x+10. The LOSS function measures the guessed answers against the known correct answers and measures how well or how badly it did.\n",
    "\n",
    "It then uses the OPTIMIZER function to make another guess. Based on how the loss function went, it will try to minimize the loss. At that point maybe it will come up with somehting like y=5x+5, which, while still pretty bad, is closer to the correct result (i.e. the loss is lower)\n",
    "\n",
    "It will repeat this for the number of EPOCHS which you will see shortly. But first, here's how we tell it to use 'MEAN SQUARED ERROR' for the loss and 'STOCHASTIC GRADIENT DESCENT' for the optimizer. You don't need to understand the math for these yet, but you can see that they work! :)\n",
    "\n",
    "Over time you will learn the different and appropriate loss and optimizer functions for different scenarios. \n"
   ]
  },
  {
   "cell_type": "code",
   "execution_count": 3,
   "metadata": {},
   "outputs": [],
   "source": [
    "model.compile(optimizer='sgd', loss='mean_squared_error')"
   ]
  },
  {
   "cell_type": "markdown",
   "metadata": {
    "colab_type": "text",
    "id": "5QyOUhFw1OUX"
   },
   "source": [
    "## Providing the Data\n",
    "\n",
    "Next up we'll feed in some data. In this case we are taking 6 xs and 6ys. You can see that the relationship between these is that y=2x-1, so where x = -1, y=-3 etc. etc. \n",
    "\n",
    "A python library called 'Numpy' provides lots of array type data structures that are a defacto standard way of doing it. We declare that we want to use these by specifying the values as an np.array[]"
   ]
  },
  {
   "cell_type": "code",
   "execution_count": 5,
   "metadata": {},
   "outputs": [],
   "source": [
    "xs = np.array([-1.0,  0.0, 1.0, 2.0, 3.0, 4.0], dtype=float)\n",
    "ys = np.array([-3.0, -1.0, 1.0, 3.0, 5.0, 7.0], dtype=float)"
   ]
  },
  {
   "cell_type": "markdown",
   "metadata": {
    "colab_type": "text",
    "id": "n_YcWRElnM_b"
   },
   "source": [
    "# Training the Neural Network"
   ]
  },
  {
   "cell_type": "markdown",
   "metadata": {
    "colab_type": "text",
    "id": "c-Jk4dG91dvD"
   },
   "source": [
    "The process of training the neural network, where it 'learns' the relationship between the Xs and Ys is in the **model.fit**  call. This is where it will go through the loop we spoke about above, making a guess, measuring how good or bad it is (aka the loss), using the opimizer to make another guess etc. It will do it for the number of epochs you specify. When you run this code, you'll see the loss on the right hand side."
   ]
  },
  {
   "cell_type": "code",
   "execution_count": 6,
   "metadata": {},
   "outputs": [
    {
     "name": "stdout",
     "output_type": "stream",
     "text": "9us/sample - loss: 0.0062\nEpoch 270/500\n6/6 [==============================] - 0s 666us/sample - loss: 0.0061\nEpoch 271/500\n6/6 [==============================] - 0s 499us/sample - loss: 0.0060\nEpoch 272/500\n6/6 [==============================] - 0s 333us/sample - loss: 0.0059\nEpoch 273/500\n6/6 [==============================] - 0s 333us/sample - loss: 0.0057\nEpoch 274/500\n6/6 [==============================] - 0s 332us/sample - loss: 0.0056\nEpoch 275/500\n6/6 [==============================] - 0s 333us/sample - loss: 0.0055\nEpoch 276/500\n6/6 [==============================] - 0s 832us/sample - loss: 0.0054\nEpoch 277/500\n6/6 [==============================] - 0s 332us/sample - loss: 0.0053\nEpoch 278/500\n6/6 [==============================] - 0s 333us/sample - loss: 0.0052\nEpoch 279/500\n6/6 [==============================] - 0s 333us/sample - loss: 0.0051\nEpoch 280/500\n6/6 [==============================] - 0s 666us/sample - loss: 0.0050\nEpoch 281/500\n6/6 [==============================] - 0s 332us/sample - loss: 0.0049\nEpoch 282/500\n6/6 [==============================] - 0s 332us/sample - loss: 0.0048\nEpoch 283/500\n6/6 [==============================] - 0s 332us/sample - loss: 0.0047\nEpoch 284/500\n6/6 [==============================] - 0s 998us/sample - loss: 0.0046\nEpoch 285/500\n6/6 [==============================] - 0s 332us/sample - loss: 0.0045\nEpoch 286/500\n6/6 [==============================] - 0s 333us/sample - loss: 0.0044\nEpoch 287/500\n6/6 [==============================] - 0s 499us/sample - loss: 0.0043\nEpoch 288/500\n6/6 [==============================] - 0s 498us/sample - loss: 0.0042\nEpoch 289/500\n6/6 [==============================] - 0s 499us/sample - loss: 0.0041\nEpoch 290/500\n6/6 [==============================] - 0s 666us/sample - loss: 0.0040\nEpoch 291/500\n6/6 [==============================] - 0s 332us/sample - loss: 0.0040\nEpoch 292/500\n6/6 [==============================] - 0s 333us/sample - loss: 0.0039\nEpoch 293/500\n6/6 [==============================] - 0s 497us/sample - loss: 0.0038\nEpoch 294/500\n6/6 [==============================] - 0s 331us/sample - loss: 0.0037\nEpoch 295/500\n6/6 [==============================] - 0s 499us/sample - loss: 0.0036\nEpoch 296/500\n6/6 [==============================] - 0s 497us/sample - loss: 0.0036\nEpoch 297/500\n6/6 [==============================] - 0s 333us/sample - loss: 0.0035\nEpoch 298/500\n6/6 [==============================] - 0s 333us/sample - loss: 0.0034\nEpoch 299/500\n6/6 [==============================] - 0s 499us/sample - loss: 0.0033\nEpoch 300/500\n6/6 [==============================] - 0s 332us/sample - loss: 0.0033\nEpoch 301/500\n6/6 [==============================] - 0s 332us/sample - loss: 0.0032\nEpoch 302/500\n6/6 [==============================] - 0s 333us/sample - loss: 0.0031\nEpoch 303/500\n6/6 [==============================] - 0s 166us/sample - loss: 0.0031\nEpoch 304/500\n6/6 [==============================] - 0s 498us/sample - loss: 0.0030\nEpoch 305/500\n6/6 [==============================] - 0s 332us/sample - loss: 0.0030\nEpoch 306/500\n6/6 [==============================] - 0s 332us/sample - loss: 0.0029\nEpoch 307/500\n6/6 [==============================] - 0s 665us/sample - loss: 0.0028\nEpoch 308/500\n6/6 [==============================] - 0s 332us/sample - loss: 0.0028\nEpoch 309/500\n6/6 [==============================] - 0s 333us/sample - loss: 0.0027\nEpoch 310/500\n6/6 [==============================] - 0s 332us/sample - loss: 0.0027\nEpoch 311/500\n6/6 [==============================] - 0s 499us/sample - loss: 0.0026\nEpoch 312/500\n6/6 [==============================] - 0s 333us/sample - loss: 0.0026\nEpoch 313/500\n6/6 [==============================] - 0s 333us/sample - loss: 0.0025\nEpoch 314/500\n6/6 [==============================] - 0s 332us/sample - loss: 0.0025\nEpoch 315/500\n6/6 [==============================] - 0s 499us/sample - loss: 0.0024\nEpoch 316/500\n6/6 [==============================] - 0s 664us/sample - loss: 0.0024\nEpoch 317/500\n6/6 [==============================] - 0s 332us/sample - loss: 0.0023\nEpoch 318/500\n6/6 [==============================] - 0s 332us/sample - loss: 0.0023\nEpoch 319/500\n6/6 [==============================] - 0s 665us/sample - loss: 0.0022\nEpoch 320/500\n6/6 [==============================] - 0s 332us/sample - loss: 0.0022\nEpoch 321/500\n6/6 [==============================] - 0s 500us/sample - loss: 0.0021\nEpoch 322/500\n6/6 [==============================] - 0s 332us/sample - loss: 0.0021\nEpoch 323/500\n6/6 [==============================] - 0s 666us/sample - loss: 0.0020\nEpoch 324/500\n6/6 [==============================] - 0s 498us/sample - loss: 0.0020\nEpoch 325/500\n6/6 [==============================] - 0s 333us/sample - loss: 0.0020\nEpoch 326/500\n6/6 [==============================] - 0s 499us/sample - loss: 0.0019\nEpoch 327/500\n6/6 [==============================] - 0s 832us/sample - loss: 0.0019\nEpoch 328/500\n6/6 [==============================] - 0s 332us/sample - loss: 0.0018\nEpoch 329/500\n6/6 [==============================] - 0s 332us/sample - loss: 0.0018\nEpoch 330/500\n6/6 [==============================] - 0s 499us/sample - loss: 0.0018\nEpoch 331/500\n6/6 [==============================] - 0s 499us/sample - loss: 0.0017\nEpoch 332/500\n6/6 [==============================] - 0s 333us/sample - loss: 0.0017\nEpoch 333/500\n6/6 [==============================] - 0s 332us/sample - loss: 0.0017\nEpoch 334/500\n6/6 [==============================] - 0s 333us/sample - loss: 0.0016\nEpoch 335/500\n6/6 [==============================] - 0s 998us/sample - loss: 0.0016\nEpoch 336/500\n6/6 [==============================] - 0s 333us/sample - loss: 0.0016\nEpoch 337/500\n6/6 [==============================] - 0s 499us/sample - loss: 0.0015\nEpoch 338/500\n6/6 [==============================] - 0s 499us/sample - loss: 0.0015\nEpoch 339/500\n6/6 [==============================] - 0s 332us/sample - loss: 0.0015\nEpoch 340/500\n6/6 [==============================] - 0s 499us/sample - loss: 0.0014\nEpoch 341/500\n6/6 [==============================] - 0s 1ms/sample - loss: 0.0014\nEpoch 342/500\n6/6 [==============================] - 0s 499us/sample - loss: 0.0014\nEpoch 343/500\n6/6 [==============================] - 0s 832us/sample - loss: 0.0013\nEpoch 344/500\n6/6 [==============================] - 0s 332us/sample - loss: 0.0013\nEpoch 345/500\n6/6 [==============================] - 0s 499us/sample - loss: 0.0013\nEpoch 346/500\n6/6 [==============================] - 0s 832us/sample - loss: 0.0013\nEpoch 347/500\n6/6 [==============================] - 0s 498us/sample - loss: 0.0012\nEpoch 348/500\n6/6 [==============================] - 0s 331us/sample - loss: 0.0012\nEpoch 349/500\n6/6 [==============================] - 0s 332us/sample - loss: 0.0012\nEpoch 350/500\n6/6 [==============================] - 0s 665us/sample - loss: 0.0012\nEpoch 351/500\n6/6 [==============================] - 0s 333us/sample - loss: 0.0011\nEpoch 352/500\n6/6 [==============================] - 0s 333us/sample - loss: 0.0011\nEpoch 353/500\n6/6 [==============================] - 0s 332us/sample - loss: 0.0011\nEpoch 354/500\n6/6 [==============================] - 0s 499us/sample - loss: 0.0011\nEpoch 355/500\n6/6 [==============================] - 0s 498us/sample - loss: 0.0010\nEpoch 356/500\n6/6 [==============================] - 0s 332us/sample - loss: 0.0010\nEpoch 357/500\n6/6 [==============================] - 0s 333us/sample - loss: 0.0010\nEpoch 358/500\n6/6 [==============================] - 0s 332us/sample - loss: 9.8415e-04\nEpoch 359/500\n6/6 [==============================] - 0s 665us/sample - loss: 9.6393e-04\nEpoch 360/500\n6/6 [==============================] - 0s 499us/sample - loss: 9.4413e-04\nEpoch 361/500\n6/6 [==============================] - 0s 333us/sample - loss: 9.2474e-04\nEpoch 362/500\n6/6 [==============================] - 0s 332us/sample - loss: 9.0575e-04\nEpoch 363/500\n6/6 [==============================] - 0s 333us/sample - loss: 8.8714e-04\nEpoch 364/500\n6/6 [==============================] - 0s 499us/sample - loss: 8.6892e-04\nEpoch 365/500\n6/6 [==============================] - 0s 332us/sample - loss: 8.5107e-04\nEpoch 366/500\n6/6 [==============================] - 0s 333us/sample - loss: 8.3359e-04\nEpoch 367/500\n6/6 [==============================] - 0s 499us/sample - loss: 8.1647e-04\nEpoch 368/500\n6/6 [==============================] - 0s 499us/sample - loss: 7.9970e-04\nEpoch 369/500\n6/6 [==============================] - 0s 665us/sample - loss: 7.8327e-04\nEpoch 370/500\n6/6 [==============================] - 0s 332us/sample - loss: 7.6718e-04\nEpoch 371/500\n6/6 [==============================] - 0s 332us/sample - loss: 7.5143e-04\nEpoch 372/500\n6/6 [==============================] - 0s 333us/sample - loss: 7.3599e-04\nEpoch 373/500\n6/6 [==============================] - 0s 665us/sample - loss: 7.2088e-04\nEpoch 374/500\n6/6 [==============================] - 0s 499us/sample - loss: 7.0607e-04\nEpoch 375/500\n6/6 [==============================] - 0s 166us/sample - loss: 6.9156e-04\nEpoch 376/500\n6/6 [==============================] - 0s 332us/sample - loss: 6.7736e-04\nEpoch 377/500\n6/6 [==============================] - 0s 664us/sample - loss: 6.6345e-04\nEpoch 378/500\n6/6 [==============================] - 0s 332us/sample - loss: 6.4982e-04\nEpoch 379/500\n6/6 [==============================] - 0s 499us/sample - loss: 6.3647e-04\nEpoch 380/500\n6/6 [==============================] - 0s 332us/sample - loss: 6.2339e-04\nEpoch 381/500\n6/6 [==============================] - 0s 333us/sample - loss: 6.1059e-04\nEpoch 382/500\n6/6 [==============================] - 0s 332us/sample - loss: 5.9805e-04\nEpoch 383/500\n6/6 [==============================] - 0s 333us/sample - loss: 5.8577e-04\nEpoch 384/500\n6/6 [==============================] - 0s 332us/sample - loss: 5.7373e-04\nEpoch 385/500\n6/6 [==============================] - 0s 332us/sample - loss: 5.6195e-04\nEpoch 386/500\n6/6 [==============================] - 0s 332us/sample - loss: 5.5040e-04\nEpoch 387/500\n6/6 [==============================] - 0s 332us/sample - loss: 5.3910e-04\nEpoch 388/500\n6/6 [==============================] - 0s 332us/sample - loss: 5.2802e-04\nEpoch 389/500\n6/6 [==============================] - 0s 499us/sample - loss: 5.1718e-04\nEpoch 390/500\n6/6 [==============================] - 0s 832us/sample - loss: 5.0656e-04\nEpoch 391/500\n6/6 [==============================] - 0s 332us/sample - loss: 4.9615e-04\nEpoch 392/500\n6/6 [==============================] - 0s 332us/sample - loss: 4.8596e-04\nEpoch 393/500\n6/6 [==============================] - 0s 332us/sample - loss: 4.7598e-04\nEpoch 394/500\n6/6 [==============================] - 0s 499us/sample - loss: 4.6620e-04\nEpoch 395/500\n6/6 [==============================] - 0s 167us/sample - loss: 4.5662e-04\nEpoch 396/500\n6/6 [==============================] - 0s 166us/sample - loss: 4.4724e-04\nEpoch 397/500\n6/6 [==============================] - 0s 665us/sample - loss: 4.3806e-04\nEpoch 398/500\n6/6 [==============================] - 0s 332us/sample - loss: 4.2906e-04\nEpoch 399/500\n6/6 [==============================] - 0s 332us/sample - loss: 4.2025e-04\nEpoch 400/500\n6/6 [==============================] - 0s 333us/sample - loss: 4.1162e-04\nEpoch 401/500\n6/6 [==============================] - 0s 333us/sample - loss: 4.0316e-04\nEpoch 402/500\n6/6 [==============================] - 0s 499us/sample - loss: 3.9488e-04\nEpoch 403/500\n6/6 [==============================] - 0s 665us/sample - loss: 3.8677e-04\nEpoch 404/500\n6/6 [==============================] - 0s 332us/sample - loss: 3.7882e-04\nEpoch 405/500\n6/6 [==============================] - 0s 166us/sample - loss: 3.7104e-04\nEpoch 406/500\n6/6 [==============================] - 0s 332us/sample - loss: 3.6342e-04\nEpoch 407/500\n6/6 [==============================] - 0s 335us/sample - loss: 3.5595e-04\nEpoch 408/500\n6/6 [==============================] - 0s 332us/sample - loss: 3.4864e-04\nEpoch 409/500\n6/6 [==============================] - 0s 332us/sample - loss: 3.4148e-04\nEpoch 410/500\n6/6 [==============================] - 0s 499us/sample - loss: 3.3447e-04\nEpoch 411/500\n6/6 [==============================] - 0s 499us/sample - loss: 3.2760e-04\nEpoch 412/500\n6/6 [==============================] - 0s 499us/sample - loss: 3.2087e-04\nEpoch 413/500\n6/6 [==============================] - 0s 333us/sample - loss: 3.1427e-04\nEpoch 414/500\n6/6 [==============================] - 0s 332us/sample - loss: 3.0782e-04\nEpoch 415/500\n6/6 [==============================] - 0s 332us/sample - loss: 3.0150e-04\nEpoch 416/500\n6/6 [==============================] - 0s 332us/sample - loss: 2.9531e-04\nEpoch 417/500\n6/6 [==============================] - 0s 498us/sample - loss: 2.8924e-04\nEpoch 418/500\n6/6 [==============================] - 0s 333us/sample - loss: 2.8330e-04\nEpoch 419/500\n6/6 [==============================] - 0s 332us/sample - loss: 2.7748e-04\nEpoch 420/500\n6/6 [==============================] - 0s 332us/sample - loss: 2.7178e-04\nEpoch 421/500\n6/6 [==============================] - 0s 332us/sample - loss: 2.6620e-04\nEpoch 422/500\n6/6 [==============================] - 0s 669us/sample - loss: 2.6073e-04\nEpoch 423/500\n6/6 [==============================] - 0s 332us/sample - loss: 2.5537e-04\nEpoch 424/500\n6/6 [==============================] - 0s 332us/sample - loss: 2.5013e-04\nEpoch 425/500\n6/6 [==============================] - 0s 331us/sample - loss: 2.4499e-04\nEpoch 426/500\n6/6 [==============================] - 0s 332us/sample - loss: 2.3996e-04\nEpoch 427/500\n6/6 [==============================] - 0s 831us/sample - loss: 2.3503e-04\nEpoch 428/500\n6/6 [==============================] - 0s 331us/sample - loss: 2.3020e-04\nEpoch 429/500\n6/6 [==============================] - 0s 333us/sample - loss: 2.2547e-04\nEpoch 430/500\n6/6 [==============================] - 0s 499us/sample - loss: 2.2084e-04\nEpoch 431/500\n6/6 [==============================] - 0s 665us/sample - loss: 2.1631e-04\nEpoch 432/500\n6/6 [==============================] - 0s 333us/sample - loss: 2.1186e-04\nEpoch 433/500\n6/6 [==============================] - 0s 332us/sample - loss: 2.0751e-04\nEpoch 434/500\n6/6 [==============================] - 0s 166us/sample - loss: 2.0325e-04\nEpoch 435/500\n6/6 [==============================] - 0s 166us/sample - loss: 1.9907e-04\nEpoch 436/500\n6/6 [==============================] - 0s 498us/sample - loss: 1.9499e-04\nEpoch 437/500\n6/6 [==============================] - 0s 333us/sample - loss: 1.9098e-04\nEpoch 438/500\n6/6 [==============================] - 0s 332us/sample - loss: 1.8706e-04\nEpoch 439/500\n6/6 [==============================] - 0s 332us/sample - loss: 1.8322e-04\nEpoch 440/500\n6/6 [==============================] - 0s 664us/sample - loss: 1.7945e-04\nEpoch 441/500\n6/6 [==============================] - 0s 332us/sample - loss: 1.7577e-04\nEpoch 442/500\n6/6 [==============================] - 0s 499us/sample - loss: 1.7216e-04\nEpoch 443/500\n6/6 [==============================] - 0s 332us/sample - loss: 1.6862e-04\nEpoch 444/500\n6/6 [==============================] - 0s 499us/sample - loss: 1.6516e-04\nEpoch 445/500\n6/6 [==============================] - 0s 333us/sample - loss: 1.6176e-04\nEpoch 446/500\n6/6 [==============================] - 0s 332us/sample - loss: 1.5844e-04\nEpoch 447/500\n6/6 [==============================] - 0s 333us/sample - loss: 1.5518e-04\nEpoch 448/500\n6/6 [==============================] - 0s 333us/sample - loss: 1.5200e-04\nEpoch 449/500\n6/6 [==============================] - 0s 333us/sample - loss: 1.4888e-04\nEpoch 450/500\n6/6 [==============================] - 0s 332us/sample - loss: 1.4582e-04\nEpoch 451/500\n6/6 [==============================] - 0s 333us/sample - loss: 1.4282e-04\nEpoch 452/500\n6/6 [==============================] - 0s 499us/sample - loss: 1.3989e-04\nEpoch 453/500\n6/6 [==============================] - 0s 333us/sample - loss: 1.3702e-04\nEpoch 454/500\n6/6 [==============================] - 0s 498us/sample - loss: 1.3420e-04\nEpoch 455/500\n6/6 [==============================] - 0s 333us/sample - loss: 1.3144e-04\nEpoch 456/500\n6/6 [==============================] - 0s 499us/sample - loss: 1.2874e-04\nEpoch 457/500\n6/6 [==============================] - 0s 333us/sample - loss: 1.2610e-04\nEpoch 458/500\n6/6 [==============================] - 0s 332us/sample - loss: 1.2351e-04\nEpoch 459/500\n6/6 [==============================] - 0s 332us/sample - loss: 1.2097e-04\nEpoch 460/500\n6/6 [==============================] - 0s 332us/sample - loss: 1.1849e-04\nEpoch 461/500\n6/6 [==============================] - 0s 499us/sample - loss: 1.1606e-04\nEpoch 462/500\n6/6 [==============================] - 0s 332us/sample - loss: 1.1367e-04\nEpoch 463/500\n6/6 [==============================] - 0s 333us/sample - loss: 1.1134e-04\nEpoch 464/500\n6/6 [==============================] - 0s 331us/sample - loss: 1.0905e-04\nEpoch 465/500\n6/6 [==============================] - 0s 332us/sample - loss: 1.0681e-04\nEpoch 466/500\n6/6 [==============================] - 0s 332us/sample - loss: 1.0462e-04\nEpoch 467/500\n6/6 [==============================] - 0s 332us/sample - loss: 1.0247e-04\nEpoch 468/500\n6/6 [==============================] - 0s 333us/sample - loss: 1.0036e-04\nEpoch 469/500\n6/6 [==============================] - 0s 332us/sample - loss: 9.8300e-05\nEpoch 470/500\n6/6 [==============================] - 0s 332us/sample - loss: 9.6280e-05\nEpoch 471/500\n6/6 [==============================] - 0s 500us/sample - loss: 9.4303e-05\nEpoch 472/500\n6/6 [==============================] - 0s 333us/sample - loss: 9.2367e-05\nEpoch 473/500\n6/6 [==============================] - 0s 500us/sample - loss: 9.0469e-05\nEpoch 474/500\n6/6 [==============================] - 0s 499us/sample - loss: 8.8611e-05\nEpoch 475/500\n6/6 [==============================] - 0s 831us/sample - loss: 8.6791e-05\nEpoch 476/500\n6/6 [==============================] - 0s 665us/sample - loss: 8.5008e-05\nEpoch 477/500\n6/6 [==============================] - 0s 499us/sample - loss: 8.3263e-05\nEpoch 478/500\n6/6 [==============================] - 0s 332us/sample - loss: 8.1552e-05\nEpoch 479/500\n6/6 [==============================] - 0s 333us/sample - loss: 7.9877e-05\nEpoch 480/500\n6/6 [==============================] - 0s 831us/sample - loss: 7.8236e-05\nEpoch 481/500\n6/6 [==============================] - 0s 333us/sample - loss: 7.6629e-05\nEpoch 482/500\n6/6 [==============================] - 0s 333us/sample - loss: 7.5055e-05\nEpoch 483/500\n6/6 [==============================] - 0s 332us/sample - loss: 7.3514e-05\nEpoch 484/500\n6/6 [==============================] - 0s 499us/sample - loss: 7.2003e-05\nEpoch 485/500\n6/6 [==============================] - 0s 332us/sample - loss: 7.0524e-05\nEpoch 486/500\n6/6 [==============================] - 0s 333us/sample - loss: 6.9076e-05\nEpoch 487/500\n6/6 [==============================] - 0s 333us/sample - loss: 6.7656e-05\nEpoch 488/500\n6/6 [==============================] - 0s 332us/sample - loss: 6.6268e-05\nEpoch 489/500\n6/6 [==============================] - 0s 665us/sample - loss: 6.4906e-05\nEpoch 490/500\n6/6 [==============================] - 0s 332us/sample - loss: 6.3573e-05\nEpoch 491/500\n6/6 [==============================] - 0s 333us/sample - loss: 6.2267e-05\nEpoch 492/500\n6/6 [==============================] - 0s 332us/sample - loss: 6.0989e-05\nEpoch 493/500\n6/6 [==============================] - 0s 333us/sample - loss: 5.9735e-05\nEpoch 494/500\n6/6 [==============================] - 0s 665us/sample - loss: 5.8509e-05\nEpoch 495/500\n6/6 [==============================] - 0s 333us/sample - loss: 5.7308e-05\nEpoch 496/500\n6/6 [==============================] - 0s 499us/sample - loss: 5.6129e-05\nEpoch 497/500\n6/6 [==============================] - 0s 333us/sample - loss: 5.4977e-05\nEpoch 498/500\n6/6 [==============================] - 0s 333us/sample - loss: 5.3848e-05\nEpoch 499/500\n6/6 [==============================] - 0s 333us/sample - loss: 5.2742e-05\nEpoch 500/500\n6/6 [==============================] - 0s 332us/sample - loss: 5.1658e-05\n"
    },
    {
     "data": {
      "text/plain": "<tensorflow.python.keras.callbacks.History at 0x2a17330ab08>"
     },
     "execution_count": 6,
     "metadata": {},
     "output_type": "execute_result"
    }
   ],
   "source": [
    "model.fit(xs, ys, epochs=500)"
   ]
  },
  {
   "cell_type": "markdown",
   "metadata": {
    "colab_type": "text",
    "id": "kaFIr71H2OZ-"
   },
   "source": [
    "Ok, now you have a model that has been trained to learn the relationshop between X and Y. You can use the **model.predict** method to have it figure out the Y for a previously unknown X. So, for example, if X = 10, what do you think Y will be? Take a guess before you run this code:"
   ]
  },
  {
   "cell_type": "code",
   "execution_count": 6,
   "metadata": {
    "colab": {},
    "colab_type": "code",
    "id": "oxNzL4lS2Gui"
   },
   "outputs": [
    {
     "name": "stdout",
     "output_type": "stream",
     "text": [
      "[[18.985727]]\n"
     ]
    }
   ],
   "source": [
    "print(model.predict([10.0]))"
   ]
  },
  {
   "cell_type": "markdown",
   "metadata": {
    "colab_type": "text",
    "id": "btF2CSFH2iEX"
   },
   "source": [
    "You might have thought 19, right? But it ended up being a little under. Why do you think that is? \n",
    "\n",
    "Remember that neural networks deal with probabilities, so given the data that we fed the NN with, it calculated that there is a very high probability that the relationship between X and Y is Y=2X-1, but with only 6 data points we can't know for sure. As a result, the result for 10 is very close to 19, but not necessarily 19. \n",
    "\n",
    "As you work with neural networks, you'll see this pattern recurring. You will almost always deal with probabilities, not certainties, and will do a little bit of coding to figure out what the result is based on the probabilities, particularly when it comes to classification.\n"
   ]
  }
 ],
 "metadata": {
  "colab": {
   "name": "Colab1-for-deeplearn.ipynb",
   "provenance": [],
   "toc_visible": true,
   "version": "0.3.2"
  },
  "kernelspec": {
   "display_name": "Python 3",
   "language": "python",
   "name": "python3"
  },
  "language_info": {
   "codemirror_mode": {
    "name": "ipython",
    "version": 3
   },
   "file_extension": ".py",
   "mimetype": "text/x-python",
   "name": "python",
   "nbconvert_exporter": "python",
   "pygments_lexer": "ipython3",
   "version": "3.7.5"
  }
 },
 "nbformat": 4,
 "nbformat_minor": 4
}