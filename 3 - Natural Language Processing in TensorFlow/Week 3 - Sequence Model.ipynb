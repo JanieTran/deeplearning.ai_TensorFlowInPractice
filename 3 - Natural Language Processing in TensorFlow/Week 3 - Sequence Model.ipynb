{
 "cells": [
  {
   "cell_type": "markdown",
   "metadata": {},
   "source": [
    "## Lesson 1A - Single Layer LSTM"
   ]
  },
  {
   "cell_type": "code",
   "execution_count": null,
   "metadata": {},
   "outputs": [],
   "source": [
    "import tensorflow_datasets as tfds\n",
    "import tensorflow as tf\n",
    "\n",
    "dataset, info = tfds.load('imdb_reviews/subwords8k', with_info=True, as_supervised=True)\n",
    "train_dataset, test_dataset = dataset['train'], dataset['test']\n",
    "tokenizer = info.features['text'].encoder"
   ]
  },
  {
   "cell_type": "code",
   "execution_count": null,
   "metadata": {},
   "outputs": [],
   "source": [
    "BUFFER_SIZE = 10000\n",
    "BATCH_SIZE = 64\n",
    "\n",
    "train_dataset = train_dataset.shuffle(BUFFER_SIZE)\n",
    "train_dataset = train_dataset.padded_batch(BATCH_SIZE, train_dataset.output_shapes)\n",
    "test_dataset = test_dataset.padded_batch(BATCH_SIZE, test_dataset.output_shapes)"
   ]
  },
  {
   "cell_type": "code",
   "execution_count": null,
   "metadata": {},
   "outputs": [],
   "source": [
    "model = tf.keras.Sequential([\n",
    "    tf.keras.layers.Embedding(tokenizer.vocab_size, 64),\n",
    "    tf.keras.layers.Bidirectional(tf.keras.layers.LSTM(64)),\n",
    "    tf.keras.layers.Dense(64, activation='relu'),\n",
    "    tf.keras.layers.Dense(1, activation='sigmoid')\n",
    "])\n",
    "\n",
    "model.compile(loss='binary_crossentropy', optimizer='adam', metrics=['accuracy'])\n",
    "model.summary()"
   ]
  },
  {
   "cell_type": "code",
   "execution_count": null,
   "metadata": {},
   "outputs": [],
   "source": [
    "NUM_EPOCHS = 10\n",
    "history = model.fit(train_dataset, epochs=NUM_EPOCHS, validation_data=test_dataset)"
   ]
  },
  {
   "cell_type": "code",
   "execution_count": null,
   "metadata": {},
   "outputs": [],
   "source": [
    "import matplotlib.pyplot as plt\n",
    "\n",
    "\n",
    "def plot_graphs(history, string):\n",
    "    plt.plot(history.history[string])\n",
    "    plt.plot(history.history['val_'+string])\n",
    "    plt.xlabel(\"Epochs\")\n",
    "    plt.ylabel(string)\n",
    "    plt.legend([string, 'val_'+string])\n",
    "    plt.show()\n",
    "    \n",
    "plot_graphs(history, 'accuracy')\n",
    "plot_graphs(history, 'loss')"
   ]
  },
  {
   "cell_type": "markdown",
   "metadata": {},
   "source": [
    "## Lesson 1B - Multiple Layer LSTM"
   ]
  },
  {
   "cell_type": "code",
   "execution_count": null,
   "metadata": {},
   "outputs": [],
   "source": [
    "model = tf.keras.Sequential([\n",
    "    tf.keras.layers.Embedding(tokenizer.vocab_size, 64),\n",
    "    tf.keras.layers.Bidirectional(tf.keras.layers.LSTM(64, return_sequences=True)),\n",
    "    tf.keras.layers.Bidirectional(tf.keras.layers.LSTM(32)),\n",
    "    tf.keras.layers.Dense(64, activation='relu'),\n",
    "    tf.keras.layers.Dense(1, activation='sigmoid')\n",
    "])"
   ]
  },
  {
   "cell_type": "markdown",
   "metadata": {},
   "source": [
    "## Lesson 1C - Multiple Layer GRU"
   ]
  },
  {
   "cell_type": "code",
   "execution_count": null,
   "metadata": {},
   "outputs": [],
   "source": [
    "model = tf.keras.Sequential([\n",
    "    tf.keras.layers.Embedding(tokenizer.vocab_size, 64),\n",
    "    tf.keras.layers.Conv1D(128, 5, activation='relu'),\n",
    "    tf.keras.layers.GlobalAveragePooling1D(),\n",
    "    tf.keras.layers.Dense(64, activation='relu'),\n",
    "    tf.keras.layers.Dense(1, activation='sigmoid')\n",
    "])"
   ]
  },
  {
   "cell_type": "markdown",
   "metadata": {},
   "source": [
    "## Lesson 2 - On Sarcasm dataset"
   ]
  },
  {
   "cell_type": "code",
   "execution_count": 1,
   "metadata": {},
   "outputs": [],
   "source": [
    "import json\n",
    "import tensorflow as tf\n",
    "\n",
    "from tensorflow.keras.preprocessing.text import Tokenizer\n",
    "from tensorflow.keras.preprocessing.sequence import pad_sequences"
   ]
  },
  {
   "cell_type": "code",
   "execution_count": 2,
   "metadata": {},
   "outputs": [],
   "source": [
    "vocab_size = 1000\n",
    "embedding_dim = 16\n",
    "max_length = 120\n",
    "trunc_type='post'\n",
    "padding_type='post'\n",
    "oov_tok = \"<OOV>\"\n",
    "training_size = 20000"
   ]
  },
  {
   "cell_type": "code",
   "execution_count": 4,
   "metadata": {},
   "outputs": [],
   "source": [
    "with open(\"tmp/sarcasm.json\", 'r') as f:\n",
    "    datastore = json.load(f)\n",
    "\n",
    "sentences = []\n",
    "labels = []\n",
    "urls = []\n",
    "for item in datastore:\n",
    "    sentences.append(item['headline'])\n",
    "    labels.append(item['is_sarcastic'])"
   ]
  },
  {
   "cell_type": "code",
   "execution_count": 5,
   "metadata": {},
   "outputs": [],
   "source": [
    "training_sentences = sentences[0:training_size]\n",
    "testing_sentences = sentences[training_size:]\n",
    "training_labels = labels[0:training_size]\n",
    "testing_labels = labels[training_size:]"
   ]
  },
  {
   "cell_type": "code",
   "execution_count": 6,
   "metadata": {},
   "outputs": [],
   "source": [
    "tokenizer = Tokenizer(num_words=vocab_size, oov_token=oov_tok)\n",
    "tokenizer.fit_on_texts(training_sentences)\n",
    "\n",
    "word_index = tokenizer.word_index"
   ]
  },
  {
   "cell_type": "code",
   "execution_count": 7,
   "metadata": {},
   "outputs": [],
   "source": [
    "training_sequences = tokenizer.texts_to_sequences(training_sentences)\n",
    "training_padded = pad_sequences(training_sequences, maxlen=max_length, padding=padding_type, truncating=trunc_type)\n",
    "\n",
    "testing_sequences = tokenizer.texts_to_sequences(testing_sentences)\n",
    "testing_padded = pad_sequences(testing_sequences, maxlen=max_length, padding=padding_type, truncating=trunc_type)"
   ]
  },
  {
   "cell_type": "markdown",
   "metadata": {},
   "source": [
    "Single LSTM"
   ]
  },
  {
   "cell_type": "code",
   "execution_count": 8,
   "metadata": {},
   "outputs": [
    {
     "name": "stdout",
     "output_type": "stream",
     "text": [
      "Model: \"sequential\"\n",
      "_________________________________________________________________\n",
      "Layer (type)                 Output Shape              Param #   \n",
      "=================================================================\n",
      "embedding (Embedding)        (None, 120, 16)           16000     \n",
      "_________________________________________________________________\n",
      "bidirectional (Bidirectional (None, 64)                12544     \n",
      "_________________________________________________________________\n",
      "dense (Dense)                (None, 24)                1560      \n",
      "_________________________________________________________________\n",
      "dense_1 (Dense)              (None, 1)                 25        \n",
      "=================================================================\n",
      "Total params: 30,129\n",
      "Trainable params: 30,129\n",
      "Non-trainable params: 0\n",
      "_________________________________________________________________\n"
     ]
    }
   ],
   "source": [
    "from tensorflow.keras.models import Sequential\n",
    "from tensorflow.keras.layers import Embedding, Bidirectional, LSTM, Dense\n",
    "\n",
    "model = Sequential([\n",
    "    Embedding(input_dim=vocab_size, output_dim=embedding_dim, input_length=max_length),\n",
    "    Bidirectional(LSTM(units=32)),\n",
    "    Dense(units=24, activation='relu'),\n",
    "    Dense(units=1, activation='sigmoid')\n",
    "])\n",
    "\n",
    "model.compile(optimizer='adam', loss='binary_crossentropy', metrics=['accuracy'])\n",
    "model.summary()"
   ]
  },
  {
   "cell_type": "code",
   "execution_count": 10,
   "metadata": {},
   "outputs": [
    {
     "name": "stdout",
     "output_type": "stream",
     "text": [
      "Train on 20000 samples, validate on 6709 samples\n",
      "Epoch 1/50\n",
      "20000/20000 [==============================] - 20s 1ms/sample - loss: 0.4582 - accuracy: 0.7727 - val_loss: 0.3860 - val_accuracy: 0.8238\n",
      "Epoch 2/50\n",
      "20000/20000 [==============================] - 12s 610us/sample - loss: 0.3569 - accuracy: 0.8367 - val_loss: 0.3756 - val_accuracy: 0.8256\n",
      "Epoch 3/50\n",
      "20000/20000 [==============================] - 12s 612us/sample - loss: 0.3312 - accuracy: 0.8486 - val_loss: 0.3717 - val_accuracy: 0.8310\n",
      "Epoch 4/50\n",
      "20000/20000 [==============================] - 13s 631us/sample - loss: 0.3142 - accuracy: 0.8602 - val_loss: 0.3744 - val_accuracy: 0.8325\n",
      "Epoch 5/50\n",
      "20000/20000 [==============================] - 13s 632us/sample - loss: 0.3021 - accuracy: 0.8651 - val_loss: 0.3755 - val_accuracy: 0.8265\n",
      "Epoch 6/50\n",
      "20000/20000 [==============================] - 13s 629us/sample - loss: 0.2932 - accuracy: 0.8709 - val_loss: 0.3858 - val_accuracy: 0.8292\n",
      "Epoch 7/50\n",
      "20000/20000 [==============================] - 12s 623us/sample - loss: 0.2843 - accuracy: 0.8746 - val_loss: 0.3913 - val_accuracy: 0.8284\n",
      "Epoch 8/50\n",
      "20000/20000 [==============================] - 12s 623us/sample - loss: 0.2736 - accuracy: 0.8803 - val_loss: 0.4003 - val_accuracy: 0.8302\n",
      "Epoch 9/50\n",
      "20000/20000 [==============================] - 12s 619us/sample - loss: 0.2677 - accuracy: 0.8836 - val_loss: 0.3943 - val_accuracy: 0.8253\n",
      "Epoch 10/50\n",
      "20000/20000 [==============================] - 12s 624us/sample - loss: 0.2594 - accuracy: 0.8878 - val_loss: 0.4030 - val_accuracy: 0.8290\n",
      "Epoch 11/50\n",
      "20000/20000 [==============================] - 12s 613us/sample - loss: 0.2537 - accuracy: 0.8897 - val_loss: 0.4018 - val_accuracy: 0.8269\n",
      "Epoch 12/50\n",
      "20000/20000 [==============================] - 13s 648us/sample - loss: 0.2445 - accuracy: 0.8959 - val_loss: 0.4079 - val_accuracy: 0.8229\n",
      "Epoch 13/50\n",
      "20000/20000 [==============================] - 13s 630us/sample - loss: 0.2396 - accuracy: 0.8984 - val_loss: 0.4332 - val_accuracy: 0.8250\n",
      "Epoch 14/50\n",
      "20000/20000 [==============================] - 12s 617us/sample - loss: 0.2324 - accuracy: 0.9004 - val_loss: 0.4621 - val_accuracy: 0.8228\n",
      "Epoch 15/50\n",
      "20000/20000 [==============================] - 13s 626us/sample - loss: 0.2260 - accuracy: 0.9057 - val_loss: 0.4549 - val_accuracy: 0.8231\n",
      "Epoch 16/50\n",
      "20000/20000 [==============================] - 12s 623us/sample - loss: 0.2197 - accuracy: 0.9087 - val_loss: 0.4528 - val_accuracy: 0.8205\n",
      "Epoch 17/50\n",
      "20000/20000 [==============================] - 12s 617us/sample - loss: 0.2132 - accuracy: 0.9111 - val_loss: 0.4889 - val_accuracy: 0.8223\n",
      "Epoch 18/50\n",
      "20000/20000 [==============================] - 13s 628us/sample - loss: 0.2055 - accuracy: 0.9143 - val_loss: 0.5245 - val_accuracy: 0.8208\n",
      "Epoch 19/50\n",
      "20000/20000 [==============================] - 13s 634us/sample - loss: 0.2008 - accuracy: 0.9174 - val_loss: 0.4872 - val_accuracy: 0.8183\n",
      "Epoch 20/50\n",
      "20000/20000 [==============================] - 12s 619us/sample - loss: 0.1940 - accuracy: 0.9196 - val_loss: 0.5230 - val_accuracy: 0.8156\n",
      "Epoch 21/50\n",
      "20000/20000 [==============================] - 12s 621us/sample - loss: 0.1850 - accuracy: 0.9246 - val_loss: 0.5637 - val_accuracy: 0.8125\n",
      "Epoch 22/50\n",
      "20000/20000 [==============================] - 12s 619us/sample - loss: 0.1792 - accuracy: 0.9255 - val_loss: 0.5962 - val_accuracy: 0.8094\n",
      "Epoch 23/50\n",
      "20000/20000 [==============================] - 12s 625us/sample - loss: 0.1734 - accuracy: 0.9304 - val_loss: 0.5842 - val_accuracy: 0.8053\n",
      "Epoch 24/50\n",
      "20000/20000 [==============================] - 12s 623us/sample - loss: 0.1686 - accuracy: 0.9315 - val_loss: 0.6484 - val_accuracy: 0.8091\n",
      "Epoch 25/50\n",
      "20000/20000 [==============================] - 12s 620us/sample - loss: 0.1605 - accuracy: 0.9347 - val_loss: 0.6573 - val_accuracy: 0.8059\n",
      "Epoch 26/50\n",
      "20000/20000 [==============================] - 12s 612us/sample - loss: 0.1559 - accuracy: 0.9374 - val_loss: 0.7042 - val_accuracy: 0.8117\n",
      "Epoch 27/50\n",
      "20000/20000 [==============================] - 12s 621us/sample - loss: 0.1482 - accuracy: 0.9390 - val_loss: 0.6843 - val_accuracy: 0.8071\n",
      "Epoch 28/50\n",
      "20000/20000 [==============================] - 12s 614us/sample - loss: 0.1417 - accuracy: 0.9438 - val_loss: 0.7393 - val_accuracy: 0.8126\n",
      "Epoch 29/50\n",
      "20000/20000 [==============================] - 13s 626us/sample - loss: 0.1396 - accuracy: 0.9444 - val_loss: 0.7149 - val_accuracy: 0.8067\n",
      "Epoch 30/50\n",
      "20000/20000 [==============================] - 12s 619us/sample - loss: 0.1316 - accuracy: 0.9473 - val_loss: 0.9338 - val_accuracy: 0.8025\n",
      "Epoch 31/50\n",
      "20000/20000 [==============================] - 12s 622us/sample - loss: 0.1277 - accuracy: 0.9482 - val_loss: 0.8203 - val_accuracy: 0.8065\n",
      "Epoch 32/50\n",
      "20000/20000 [==============================] - 12s 615us/sample - loss: 0.1197 - accuracy: 0.9517 - val_loss: 0.9007 - val_accuracy: 0.8071\n",
      "Epoch 33/50\n",
      "20000/20000 [==============================] - 12s 616us/sample - loss: 0.1164 - accuracy: 0.9541 - val_loss: 0.8873 - val_accuracy: 0.8034\n",
      "Epoch 34/50\n",
      "20000/20000 [==============================] - 12s 613us/sample - loss: 0.1113 - accuracy: 0.9555 - val_loss: 1.0735 - val_accuracy: 0.7973\n",
      "Epoch 35/50\n",
      "20000/20000 [==============================] - 12s 619us/sample - loss: 0.1052 - accuracy: 0.9583 - val_loss: 1.0741 - val_accuracy: 0.7973\n",
      "Epoch 36/50\n",
      "20000/20000 [==============================] - 12s 618us/sample - loss: 0.1068 - accuracy: 0.9568 - val_loss: 1.0615 - val_accuracy: 0.8027\n",
      "Epoch 37/50\n",
      "20000/20000 [==============================] - 12s 621us/sample - loss: 0.1015 - accuracy: 0.9588 - val_loss: 1.0195 - val_accuracy: 0.7986\n",
      "Epoch 38/50\n",
      "20000/20000 [==============================] - 12s 612us/sample - loss: 0.0934 - accuracy: 0.9625 - val_loss: 1.2920 - val_accuracy: 0.8001\n",
      "Epoch 39/50\n",
      "20000/20000 [==============================] - 12s 616us/sample - loss: 0.1036 - accuracy: 0.9577 - val_loss: 1.1179 - val_accuracy: 0.7988\n",
      "Epoch 40/50\n",
      "20000/20000 [==============================] - 12s 615us/sample - loss: 0.0903 - accuracy: 0.9640 - val_loss: 1.2361 - val_accuracy: 0.7970\n",
      "Epoch 41/50\n",
      "20000/20000 [==============================] - 12s 611us/sample - loss: 0.0814 - accuracy: 0.9682 - val_loss: 1.3450 - val_accuracy: 0.7989\n",
      "Epoch 42/50\n",
      "20000/20000 [==============================] - 12s 611us/sample - loss: 0.0779 - accuracy: 0.9686 - val_loss: 1.3315 - val_accuracy: 0.7983\n",
      "Epoch 43/50\n",
      "20000/20000 [==============================] - 12s 613us/sample - loss: 0.0785 - accuracy: 0.9694 - val_loss: 1.4241 - val_accuracy: 0.8004\n",
      "Epoch 44/50\n",
      "20000/20000 [==============================] - 12s 610us/sample - loss: 0.0707 - accuracy: 0.9725 - val_loss: 1.5272 - val_accuracy: 0.7942\n",
      "Epoch 45/50\n",
      "20000/20000 [==============================] - 12s 609us/sample - loss: 0.0719 - accuracy: 0.9709 - val_loss: 1.4947 - val_accuracy: 0.7933\n",
      "Epoch 46/50\n",
      "20000/20000 [==============================] - 12s 612us/sample - loss: 0.0795 - accuracy: 0.9686 - val_loss: 1.4160 - val_accuracy: 0.7933\n",
      "Epoch 47/50\n",
      "20000/20000 [==============================] - 12s 618us/sample - loss: 0.0677 - accuracy: 0.9722 - val_loss: 1.5727 - val_accuracy: 0.7894\n",
      "Epoch 48/50\n",
      "20000/20000 [==============================] - 12s 617us/sample - loss: 0.0597 - accuracy: 0.9755 - val_loss: 1.6095 - val_accuracy: 0.7934\n",
      "Epoch 49/50\n",
      "20000/20000 [==============================] - 12s 608us/sample - loss: 0.0635 - accuracy: 0.9747 - val_loss: 1.6544 - val_accuracy: 0.7916\n",
      "Epoch 50/50\n",
      "20000/20000 [==============================] - 12s 605us/sample - loss: 0.0697 - accuracy: 0.9728 - val_loss: 1.5566 - val_accuracy: 0.7924\n"
     ]
    }
   ],
   "source": [
    "import numpy as np\n",
    "\n",
    "training_padded = np.array(training_padded)\n",
    "training_labels = np.array(training_labels)\n",
    "testing_padded = np.array(testing_padded)\n",
    "testing_labels = np.array(testing_labels)\n",
    "\n",
    "history = model.fit(training_padded, training_labels, epochs=50,\n",
    "                    validation_data=(testing_padded, testing_labels), verbose=1)"
   ]
  },
  {
   "cell_type": "code",
   "execution_count": 11,
   "metadata": {},
   "outputs": [
    {
     "data": {
      "image/png": "[encoded data removed]",
      "text/plain": [
       "<Figure size 432x288 with 1 Axes>"
      ]
     },
     "metadata": {
      "needs_background": "light"
     },
     "output_type": "display_data"
    },
    {
     "data": {
      "image/png": "[encoded data removed]",
      "text/plain": [
       "<Figure size 432x288 with 1 Axes>"
      ]
     },
     "metadata": {
      "needs_background": "light"
     },
     "output_type": "display_data"
    }
   ],
   "source": [
    "import matplotlib.pyplot as plt\n",
    "\n",
    "\n",
    "def plot_graphs(history, string):\n",
    "    plt.plot(history.history[string])\n",
    "    plt.plot(history.history['val_'+string])\n",
    "    plt.xlabel(\"Epochs\")\n",
    "    plt.ylabel(string)\n",
    "    plt.legend([string, 'val_'+string])\n",
    "    plt.show()\n",
    "\n",
    "plot_graphs(history, 'accuracy')\n",
    "plot_graphs(history, 'loss')"
   ]
  },
  {
   "cell_type": "markdown",
   "metadata": {},
   "source": [
    "Convolutional"
   ]
  },
  {
   "cell_type": "code",
   "execution_count": 18,
   "metadata": {},
   "outputs": [
    {
     "data": {
      "text/plain": [
       "89255"
      ]
     },
     "execution_count": 18,
     "metadata": {},
     "output_type": "execute_result"
    }
   ],
   "source": [
    "import gc\n",
    "gc.collect()"
   ]
  },
  {
   "cell_type": "code",
   "execution_count": 13,
   "metadata": {},
   "outputs": [
    {
     "name": "stdout",
     "output_type": "stream",
     "text": [
      "Model: \"sequential_1\"\n",
      "_________________________________________________________________\n",
      "Layer (type)                 Output Shape              Param #   \n",
      "=================================================================\n",
      "embedding_1 (Embedding)      (None, 120, 16)           16000     \n",
      "_________________________________________________________________\n",
      "conv1d (Conv1D)              (None, 116, 128)          10368     \n",
      "_________________________________________________________________\n",
      "global_max_pooling1d (Global (None, 128)               0         \n",
      "_________________________________________________________________\n",
      "dense_2 (Dense)              (None, 24)                3096      \n",
      "_________________________________________________________________\n",
      "dense_3 (Dense)              (None, 1)                 25        \n",
      "=================================================================\n",
      "Total params: 29,489\n",
      "Trainable params: 29,489\n",
      "Non-trainable params: 0\n",
      "_________________________________________________________________\n"
     ]
    }
   ],
   "source": [
    "from tensorflow.keras.models import Sequential\n",
    "from tensorflow.keras.layers import Embedding, Conv1D, GlobalMaxPooling1D\n",
    "\n",
    "model = Sequential([\n",
    "    Embedding(input_dim=vocab_size, output_dim=embedding_dim, input_length=max_length),\n",
    "    Conv1D(filters=128, kernel_size=5, activation='relu'),\n",
    "    GlobalMaxPooling1D(),\n",
    "    Dense(units=24, activation='relu'),\n",
    "    Dense(units=1, activation='sigmoid')\n",
    "])\n",
    "\n",
    "model.compile(optimizer='adam', loss='binary_crossentropy', metrics=['accuracy'])\n",
    "model.summary()"
   ]
  },
  {
   "cell_type": "code",
   "execution_count": 14,
   "metadata": {},
   "outputs": [
    {
     "name": "stdout",
     "output_type": "stream",
     "text": [
      "Train on 20000 samples, validate on 6709 samples\n",
      "Epoch 1/50\n",
      "20000/20000 [==============================] - 6s 293us/sample - loss: 0.4651 - accuracy: 0.7659 - val_loss: 0.4118 - val_accuracy: 0.8104\n",
      "Epoch 2/50\n",
      "20000/20000 [==============================] - 5s 241us/sample - loss: 0.3599 - accuracy: 0.8383 - val_loss: 0.3880 - val_accuracy: 0.8261\n",
      "Epoch 3/50\n",
      "20000/20000 [==============================] - 5s 238us/sample - loss: 0.3191 - accuracy: 0.8582 - val_loss: 0.3897 - val_accuracy: 0.8238\n",
      "Epoch 4/50\n",
      "20000/20000 [==============================] - 5s 241us/sample - loss: 0.2871 - accuracy: 0.8780 - val_loss: 0.4145 - val_accuracy: 0.8156\n",
      "Epoch 5/50\n",
      "20000/20000 [==============================] - 5s 240us/sample - loss: 0.2542 - accuracy: 0.8931 - val_loss: 0.4257 - val_accuracy: 0.8204\n",
      "Epoch 6/50\n",
      "20000/20000 [==============================] - 5s 252us/sample - loss: 0.2219 - accuracy: 0.9100 - val_loss: 0.4541 - val_accuracy: 0.8171\n",
      "Epoch 7/50\n",
      "20000/20000 [==============================] - 5s 245us/sample - loss: 0.1852 - accuracy: 0.9284 - val_loss: 0.5038 - val_accuracy: 0.8141\n",
      "Epoch 8/50\n",
      "20000/20000 [==============================] - 5s 250us/sample - loss: 0.1560 - accuracy: 0.9413 - val_loss: 0.5656 - val_accuracy: 0.8044\n",
      "Epoch 9/50\n",
      "20000/20000 [==============================] - 5s 248us/sample - loss: 0.1291 - accuracy: 0.9536 - val_loss: 0.6207 - val_accuracy: 0.8079\n",
      "Epoch 10/50\n",
      "20000/20000 [==============================] - 5s 251us/sample - loss: 0.1031 - accuracy: 0.9639 - val_loss: 0.6999 - val_accuracy: 0.8052\n",
      "Epoch 11/50\n",
      "20000/20000 [==============================] - 5s 248us/sample - loss: 0.0868 - accuracy: 0.9691 - val_loss: 0.7473 - val_accuracy: 0.8022\n",
      "Epoch 12/50\n",
      "20000/20000 [==============================] - 5s 250us/sample - loss: 0.0747 - accuracy: 0.9740 - val_loss: 0.8691 - val_accuracy: 0.7955\n",
      "Epoch 13/50\n",
      "20000/20000 [==============================] - 5s 251us/sample - loss: 0.0604 - accuracy: 0.9790 - val_loss: 0.9606 - val_accuracy: 0.7997\n",
      "Epoch 14/50\n",
      "20000/20000 [==============================] - 5s 250us/sample - loss: 0.0533 - accuracy: 0.9808 - val_loss: 1.0183 - val_accuracy: 0.7974\n",
      "Epoch 15/50\n",
      "20000/20000 [==============================] - 5s 253us/sample - loss: 0.0508 - accuracy: 0.9819 - val_loss: 1.0900 - val_accuracy: 0.7964\n",
      "Epoch 16/50\n",
      "20000/20000 [==============================] - 5s 257us/sample - loss: 0.0487 - accuracy: 0.9815 - val_loss: 1.1669 - val_accuracy: 0.7983\n",
      "Epoch 17/50\n",
      "20000/20000 [==============================] - 5s 245us/sample - loss: 0.0424 - accuracy: 0.9840 - val_loss: 1.2242 - val_accuracy: 0.7933\n",
      "Epoch 18/50\n",
      "20000/20000 [==============================] - 5s 247us/sample - loss: 0.0385 - accuracy: 0.9854 - val_loss: 1.3591 - val_accuracy: 0.7933\n",
      "Epoch 19/50\n",
      "20000/20000 [==============================] - 5s 241us/sample - loss: 0.0351 - accuracy: 0.9873 - val_loss: 1.3629 - val_accuracy: 0.7909\n",
      "Epoch 20/50\n",
      "20000/20000 [==============================] - 5s 249us/sample - loss: 0.0340 - accuracy: 0.9873 - val_loss: 1.4538 - val_accuracy: 0.7959\n",
      "Epoch 21/50\n",
      "20000/20000 [==============================] - 5s 250us/sample - loss: 0.0334 - accuracy: 0.9869 - val_loss: 1.4510 - val_accuracy: 0.7945\n",
      "Epoch 22/50\n",
      "20000/20000 [==============================] - 5s 240us/sample - loss: 0.0339 - accuracy: 0.9865 - val_loss: 1.5002 - val_accuracy: 0.7980\n",
      "Epoch 23/50\n",
      "20000/20000 [==============================] - 5s 240us/sample - loss: 0.0310 - accuracy: 0.9882 - val_loss: 1.6601 - val_accuracy: 0.7918\n",
      "Epoch 24/50\n",
      "20000/20000 [==============================] - 5s 233us/sample - loss: 0.0334 - accuracy: 0.9870 - val_loss: 1.5211 - val_accuracy: 0.7953\n",
      "Epoch 25/50\n",
      "20000/20000 [==============================] - 5s 254us/sample - loss: 0.0269 - accuracy: 0.9889 - val_loss: 1.6613 - val_accuracy: 0.7964\n",
      "Epoch 26/50\n",
      "20000/20000 [==============================] - 5s 257us/sample - loss: 0.0297 - accuracy: 0.9887 - val_loss: 1.6309 - val_accuracy: 0.7985\n",
      "Epoch 27/50\n",
      "20000/20000 [==============================] - 5s 253us/sample - loss: 0.0289 - accuracy: 0.9882 - val_loss: 1.7555 - val_accuracy: 0.7939\n",
      "Epoch 28/50\n",
      "20000/20000 [==============================] - 5s 269us/sample - loss: 0.0290 - accuracy: 0.9883 - val_loss: 1.7485 - val_accuracy: 0.7922\n",
      "Epoch 29/50\n",
      "20000/20000 [==============================] - 5s 266us/sample - loss: 0.0266 - accuracy: 0.9897 - val_loss: 1.8695 - val_accuracy: 0.7936\n",
      "Epoch 30/50\n",
      "20000/20000 [==============================] - 5s 274us/sample - loss: 0.0238 - accuracy: 0.9895 - val_loss: 1.8147 - val_accuracy: 0.7909\n",
      "Epoch 31/50\n",
      "20000/20000 [==============================] - 6s 319us/sample - loss: 0.0244 - accuracy: 0.9898 - val_loss: 2.1397 - val_accuracy: 0.7882\n",
      "Epoch 32/50\n",
      "20000/20000 [==============================] - 6s 276us/sample - loss: 0.0230 - accuracy: 0.9901 - val_loss: 1.9574 - val_accuracy: 0.7916\n",
      "Epoch 33/50\n",
      "20000/20000 [==============================] - 6s 298us/sample - loss: 0.0242 - accuracy: 0.9895 - val_loss: 1.9488 - val_accuracy: 0.7952\n",
      "Epoch 34/50\n",
      "20000/20000 [==============================] - 6s 322us/sample - loss: 0.0272 - accuracy: 0.9894 - val_loss: 2.0265 - val_accuracy: 0.7956\n",
      "Epoch 35/50\n",
      "20000/20000 [==============================] - 7s 339us/sample - loss: 0.0247 - accuracy: 0.9897 - val_loss: 2.1008 - val_accuracy: 0.7919\n",
      "Epoch 36/50\n",
      "20000/20000 [==============================] - 7s 325us/sample - loss: 0.0222 - accuracy: 0.9906 - val_loss: 2.1491 - val_accuracy: 0.7904\n",
      "Epoch 37/50\n",
      "20000/20000 [==============================] - 6s 317us/sample - loss: 0.0271 - accuracy: 0.9891 - val_loss: 2.0330 - val_accuracy: 0.7956\n",
      "Epoch 38/50\n",
      "20000/20000 [==============================] - 9s 454us/sample - loss: 0.0203 - accuracy: 0.9911 - val_loss: 2.1130 - val_accuracy: 0.7948\n",
      "Epoch 39/50\n",
      "20000/20000 [==============================] - 9s 473us/sample - loss: 0.0220 - accuracy: 0.9905 - val_loss: 2.1615 - val_accuracy: 0.7953\n",
      "Epoch 40/50\n",
      "20000/20000 [==============================] - 8s 410us/sample - loss: 0.0186 - accuracy: 0.9915 - val_loss: 2.3040 - val_accuracy: 0.7880\n",
      "Epoch 41/50\n",
      "20000/20000 [==============================] - 10s 497us/sample - loss: 0.0194 - accuracy: 0.9916 - val_loss: 2.2631 - val_accuracy: 0.7919\n",
      "Epoch 42/50\n",
      "20000/20000 [==============================] - 9s 470us/sample - loss: 0.0252 - accuracy: 0.9887 - val_loss: 2.2165 - val_accuracy: 0.7891\n",
      "Epoch 43/50\n",
      "20000/20000 [==============================] - 9s 475us/sample - loss: 0.0240 - accuracy: 0.9894 - val_loss: 2.4197 - val_accuracy: 0.7876\n",
      "Epoch 44/50\n",
      "20000/20000 [==============================] - 8s 418us/sample - loss: 0.0213 - accuracy: 0.9904 - val_loss: 2.2897 - val_accuracy: 0.7918\n",
      "Epoch 45/50\n",
      "20000/20000 [==============================] - 9s 474us/sample - loss: 0.0238 - accuracy: 0.9897 - val_loss: 2.2856 - val_accuracy: 0.7861\n",
      "Epoch 46/50\n",
      "20000/20000 [==============================] - 8s 417us/sample - loss: 0.0198 - accuracy: 0.9909 - val_loss: 2.3652 - val_accuracy: 0.7886\n",
      "Epoch 47/50\n",
      "20000/20000 [==============================] - 8s 421us/sample - loss: 0.0177 - accuracy: 0.9918 - val_loss: 2.4979 - val_accuracy: 0.7915\n",
      "Epoch 48/50\n",
      "20000/20000 [==============================] - 9s 439us/sample - loss: 0.0230 - accuracy: 0.9902 - val_loss: 2.4513 - val_accuracy: 0.7927\n",
      "Epoch 49/50\n",
      "20000/20000 [==============================] - 9s 425us/sample - loss: 0.0229 - accuracy: 0.9901 - val_loss: 2.4344 - val_accuracy: 0.7866\n",
      "Epoch 50/50\n",
      "20000/20000 [==============================] - 9s 432us/sample - loss: 0.0216 - accuracy: 0.9908 - val_loss: 2.3880 - val_accuracy: 0.7909\n"
     ]
    }
   ],
   "source": [
    "history = model.fit(training_padded, training_labels, epochs=50,\n",
    "                    validation_data=(testing_padded, testing_labels), verbose=2)"
   ]
  },
  {
   "cell_type": "code",
   "execution_count": 15,
   "metadata": {},
   "outputs": [
    {
     "data": {
      "image/png": "[encoded data removed]",
      "text/plain": [
       "<Figure size 432x288 with 1 Axes>"
      ]
     },
     "metadata": {
      "needs_background": "light"
     },
     "output_type": "display_data"
    },
    {
     "data": {
      "image/png": "[encoded data removed]",
      "text/plain": [
       "<Figure size 432x288 with 1 Axes>"
      ]
     },
     "metadata": {
      "needs_background": "light"
     },
     "output_type": "display_data"
    }
   ],
   "source": [
    "plot_graphs(history, 'accuracy')\n",
    "plot_graphs(history, 'loss')"
   ]
  },
  {
   "cell_type": "markdown",
   "metadata": {},
   "source": [
    "GRU"
   ]
  },
  {
   "cell_type": "code",
   "execution_count": 19,
   "metadata": {},
   "outputs": [
    {
     "data": {
      "text/plain": [
       "329"
      ]
     },
     "execution_count": 19,
     "metadata": {},
     "output_type": "execute_result"
    }
   ],
   "source": [
    "gc.collect()"
   ]
  },
  {
   "cell_type": "code",
   "execution_count": 20,
   "metadata": {},
   "outputs": [
    {
     "name": "stdout",
     "output_type": "stream",
     "text": [
      "Model: \"sequential_3\"\n",
      "_________________________________________________________________\n",
      "Layer (type)                 Output Shape              Param #   \n",
      "=================================================================\n",
      "embedding_3 (Embedding)      (None, 120, 16)           16000     \n",
      "_________________________________________________________________\n",
      "bidirectional_2 (Bidirection (None, 64)                9600      \n",
      "_________________________________________________________________\n",
      "dense_6 (Dense)              (None, 6)                 390       \n",
      "_________________________________________________________________\n",
      "dense_7 (Dense)              (None, 1)                 7         \n",
      "=================================================================\n",
      "Total params: 25,997\n",
      "Trainable params: 25,997\n",
      "Non-trainable params: 0\n",
      "_________________________________________________________________\n"
     ]
    }
   ],
   "source": [
    "from tensorflow.keras.models import Sequential\n",
    "from tensorflow.keras.layers import Embedding, Bidirectional, GRU, Dense\n",
    "\n",
    "model = Sequential([\n",
    "    Embedding(input_dim=vocab_size, output_dim=embedding_dim, input_length=max_length),\n",
    "    Bidirectional(GRU(units=32)),\n",
    "    Dense(units=6, activation='relu'),\n",
    "    Dense(units=1, activation='sigmoid')\n",
    "])\n",
    "\n",
    "model.compile(optimizer='adam', loss='binary_crossentropy', metrics=['accuracy'])\n",
    "model.summary()"
   ]
  },
  {
   "cell_type": "code",
   "execution_count": 21,
   "metadata": {},
   "outputs": [
    {
     "name": "stdout",
     "output_type": "stream",
     "text": [
      "Train on 20000 samples, validate on 6709 samples\n",
      "Epoch 1/50\n",
      "20000/20000 - 16s - loss: 0.4492 - accuracy: 0.7725 - val_loss: 0.3869 - val_accuracy: 0.8195\n",
      "Epoch 2/50\n",
      "20000/20000 - 13s - loss: 0.3529 - accuracy: 0.8376 - val_loss: 0.3812 - val_accuracy: 0.8223\n",
      "Epoch 3/50\n",
      "20000/20000 - 13s - loss: 0.3282 - accuracy: 0.8492 - val_loss: 0.3679 - val_accuracy: 0.8290\n",
      "Epoch 4/50\n",
      "20000/20000 - 12s - loss: 0.3112 - accuracy: 0.8596 - val_loss: 0.3844 - val_accuracy: 0.8235\n",
      "Epoch 5/50\n",
      "20000/20000 - 12s - loss: 0.2986 - accuracy: 0.8650 - val_loss: 0.3785 - val_accuracy: 0.8274\n",
      "Epoch 6/50\n",
      "20000/20000 - 12s - loss: 0.2870 - accuracy: 0.8726 - val_loss: 0.3821 - val_accuracy: 0.8307\n",
      "Epoch 7/50\n",
      "20000/20000 - 12s - loss: 0.2752 - accuracy: 0.8819 - val_loss: 0.3800 - val_accuracy: 0.8286\n",
      "Epoch 8/50\n",
      "20000/20000 - 13s - loss: 0.2691 - accuracy: 0.8824 - val_loss: 0.3910 - val_accuracy: 0.8255\n",
      "Epoch 9/50\n",
      "20000/20000 - 12s - loss: 0.2580 - accuracy: 0.8895 - val_loss: 0.3987 - val_accuracy: 0.8237\n",
      "Epoch 10/50\n",
      "20000/20000 - 12s - loss: 0.2517 - accuracy: 0.8909 - val_loss: 0.4285 - val_accuracy: 0.8252\n",
      "Epoch 11/50\n",
      "20000/20000 - 11s - loss: 0.2435 - accuracy: 0.8963 - val_loss: 0.4199 - val_accuracy: 0.8198\n",
      "Epoch 12/50\n",
      "20000/20000 - 12s - loss: 0.2364 - accuracy: 0.9000 - val_loss: 0.4296 - val_accuracy: 0.8234\n",
      "Epoch 13/50\n",
      "20000/20000 - 12s - loss: 0.2309 - accuracy: 0.9023 - val_loss: 0.4508 - val_accuracy: 0.8202\n",
      "Epoch 14/50\n",
      "20000/20000 - 12s - loss: 0.2221 - accuracy: 0.9076 - val_loss: 0.4467 - val_accuracy: 0.8195\n",
      "Epoch 15/50\n",
      "20000/20000 - 12s - loss: 0.2148 - accuracy: 0.9121 - val_loss: 0.4533 - val_accuracy: 0.8199\n",
      "Epoch 16/50\n",
      "20000/20000 - 12s - loss: 0.2086 - accuracy: 0.9146 - val_loss: 0.4533 - val_accuracy: 0.8153\n",
      "Epoch 17/50\n",
      "20000/20000 - 12s - loss: 0.1987 - accuracy: 0.9208 - val_loss: 0.4749 - val_accuracy: 0.8189\n",
      "Epoch 18/50\n",
      "20000/20000 - 12s - loss: 0.1919 - accuracy: 0.9220 - val_loss: 0.4994 - val_accuracy: 0.8162\n",
      "Epoch 19/50\n",
      "20000/20000 - 12s - loss: 0.1844 - accuracy: 0.9259 - val_loss: 0.5254 - val_accuracy: 0.8193\n",
      "Epoch 20/50\n",
      "20000/20000 - 12s - loss: 0.1755 - accuracy: 0.9306 - val_loss: 0.5826 - val_accuracy: 0.8149\n",
      "Epoch 21/50\n",
      "20000/20000 - 12s - loss: 0.1694 - accuracy: 0.9327 - val_loss: 0.5861 - val_accuracy: 0.8141\n",
      "Epoch 22/50\n",
      "20000/20000 - 12s - loss: 0.1619 - accuracy: 0.9352 - val_loss: 0.5905 - val_accuracy: 0.8085\n",
      "Epoch 23/50\n",
      "20000/20000 - 12s - loss: 0.1546 - accuracy: 0.9380 - val_loss: 0.6272 - val_accuracy: 0.8098\n",
      "Epoch 24/50\n",
      "20000/20000 - 12s - loss: 0.1469 - accuracy: 0.9405 - val_loss: 0.6553 - val_accuracy: 0.8094\n",
      "Epoch 25/50\n",
      "20000/20000 - 12s - loss: 0.1419 - accuracy: 0.9423 - val_loss: 0.6409 - val_accuracy: 0.8028\n",
      "Epoch 26/50\n",
      "20000/20000 - 12s - loss: 0.1362 - accuracy: 0.9456 - val_loss: 0.7391 - val_accuracy: 0.8038\n",
      "Epoch 27/50\n",
      "20000/20000 - 12s - loss: 0.1327 - accuracy: 0.9481 - val_loss: 0.7153 - val_accuracy: 0.7986\n",
      "Epoch 28/50\n",
      "20000/20000 - 12s - loss: 0.1259 - accuracy: 0.9497 - val_loss: 0.7486 - val_accuracy: 0.8038\n",
      "Epoch 29/50\n",
      "20000/20000 - 12s - loss: 0.1194 - accuracy: 0.9526 - val_loss: 0.8319 - val_accuracy: 0.8031\n",
      "Epoch 30/50\n",
      "20000/20000 - 12s - loss: 0.1135 - accuracy: 0.9546 - val_loss: 0.8726 - val_accuracy: 0.8028\n",
      "Epoch 31/50\n",
      "20000/20000 - 12s - loss: 0.1123 - accuracy: 0.9540 - val_loss: 0.8464 - val_accuracy: 0.8028\n",
      "Epoch 32/50\n",
      "20000/20000 - 12s - loss: 0.1080 - accuracy: 0.9564 - val_loss: 0.9619 - val_accuracy: 0.7983\n",
      "Epoch 33/50\n",
      "20000/20000 - 12s - loss: 0.1086 - accuracy: 0.9567 - val_loss: 0.9112 - val_accuracy: 0.8021\n",
      "Epoch 34/50\n",
      "20000/20000 - 12s - loss: 0.0976 - accuracy: 0.9604 - val_loss: 1.0011 - val_accuracy: 0.7994\n",
      "Epoch 35/50\n",
      "20000/20000 - 12s - loss: 0.0983 - accuracy: 0.9599 - val_loss: 1.0375 - val_accuracy: 0.8016\n",
      "Epoch 36/50\n",
      "20000/20000 - 12s - loss: 0.0934 - accuracy: 0.9622 - val_loss: 1.1013 - val_accuracy: 0.8003\n",
      "Epoch 37/50\n",
      "20000/20000 - 12s - loss: 0.0879 - accuracy: 0.9638 - val_loss: 1.0655 - val_accuracy: 0.8012\n",
      "Epoch 38/50\n",
      "20000/20000 - 12s - loss: 0.0894 - accuracy: 0.9629 - val_loss: 1.1054 - val_accuracy: 0.7991\n",
      "Epoch 39/50\n",
      "20000/20000 - 11s - loss: 0.0904 - accuracy: 0.9621 - val_loss: 1.1276 - val_accuracy: 0.8044\n",
      "Epoch 40/50\n",
      "20000/20000 - 11s - loss: 0.0843 - accuracy: 0.9650 - val_loss: 1.1397 - val_accuracy: 0.7989\n",
      "Epoch 41/50\n",
      "20000/20000 - 11s - loss: 0.0835 - accuracy: 0.9657 - val_loss: 1.2456 - val_accuracy: 0.8012\n",
      "Epoch 42/50\n",
      "20000/20000 - 11s - loss: 0.0784 - accuracy: 0.9669 - val_loss: 1.2681 - val_accuracy: 0.8032\n",
      "Epoch 43/50\n",
      "20000/20000 - 11s - loss: 0.0771 - accuracy: 0.9673 - val_loss: 1.2517 - val_accuracy: 0.8009\n",
      "Epoch 44/50\n",
      "20000/20000 - 11s - loss: 0.0736 - accuracy: 0.9692 - val_loss: 1.2654 - val_accuracy: 0.7995\n",
      "Epoch 45/50\n",
      "20000/20000 - 12s - loss: 0.0755 - accuracy: 0.9678 - val_loss: 1.3718 - val_accuracy: 0.7967\n",
      "Epoch 46/50\n",
      "20000/20000 - 12s - loss: 0.0778 - accuracy: 0.9663 - val_loss: 1.2901 - val_accuracy: 0.7971\n",
      "Epoch 47/50\n",
      "20000/20000 - 12s - loss: 0.0736 - accuracy: 0.9678 - val_loss: 1.3463 - val_accuracy: 0.7997\n",
      "Epoch 48/50\n",
      "20000/20000 - 13s - loss: 0.0647 - accuracy: 0.9724 - val_loss: 1.4538 - val_accuracy: 0.7991\n",
      "Epoch 49/50\n",
      "20000/20000 - 14s - loss: 0.0659 - accuracy: 0.9707 - val_loss: 1.4228 - val_accuracy: 0.7985\n",
      "Epoch 50/50\n",
      "20000/20000 - 18s - loss: 0.0631 - accuracy: 0.9724 - val_loss: 1.5446 - val_accuracy: 0.7964\n"
     ]
    }
   ],
   "source": [
    "history = model.fit(training_padded, training_labels, epochs=50,\n",
    "                    validation_data=(testing_padded, testing_labels), verbose=2)"
   ]
  },
  {
   "cell_type": "code",
   "execution_count": 22,
   "metadata": {},
   "outputs": [
    {
     "data": {
      "image/png": "[encoded data removed]",
      "text/plain": [
       "<Figure size 432x288 with 1 Axes>"
      ]
     },
     "metadata": {
      "needs_background": "light"
     },
     "output_type": "display_data"
    },
    {
     "data": {
      "image/png": "[encoded data removed]",
      "text/plain": [
       "<Figure size 432x288 with 1 Axes>"
      ]
     },
     "metadata": {
      "needs_background": "light"
     },
     "output_type": "display_data"
    }
   ],
   "source": [
    "plot_graphs(history, 'accuracy')\n",
    "plot_graphs(history, 'loss')"
   ]
  },
  {
   "cell_type": "code",
   "execution_count": null,
   "metadata": {},
   "outputs": [],
   "source": []
  }
 ],
 "metadata": {
  "kernelspec": {
   "display_name": "Python 3",
   "language": "python",
   "name": "python3"
  },
  "language_info": {
   "codemirror_mode": {
    "name": "ipython",
    "version": 3
   },
   "file_extension": ".py",
   "mimetype": "text/x-python",
   "name": "python",
   "nbconvert_exporter": "python",
   "pygments_lexer": "ipython3",
   "version": "3.7.5"
  }
 },
 "nbformat": 4,
 "nbformat_minor": 4
}
